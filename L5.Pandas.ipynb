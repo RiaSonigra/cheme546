{
 "cells": [
  {
   "cell_type": "markdown",
   "metadata": {},
   "source": [
    "# Software Engineering for Molecular Data Scientists\n",
    "\n",
    "## *Introduction Pandas*"
   ]
  },
  {
   "cell_type": "markdown",
   "metadata": {},
   "source": [
    "## Today's Objectives\n",
    "\n",
    "#### 0. Review of *flow control* in Python\n",
    "\n",
    "#### 1. Loading data with ``pandas``\n",
    "\n",
    "#### 2. Cleaning and Manipulating data with ``pandas``"
   ]
  },
  {
   "cell_type": "markdown",
   "metadata": {},
   "source": [
    "## 0. Review of *flow control* in Python\n",
    "\n",
    "In our last tutorial, we discussed **_lists_**, **_dictionaries_**, and **_flow control_**.\n",
    "\n",
    "**_Lists_** are **_ordered collections_** of data that can be used to hold multiple pieces of information while preserving thier order.  We use `[` and `]` to access elements by their indices which start with `0`.  All things that operate on **_lists_** like slices use the concept of an inclusive lower bound and an exclusive upper bound.  So, the following gets elements from the **_list_** `my_list` with index values of `0`, `1`, and `2`, but **not** `3`!\n",
    "\n",
    "```\n",
    "my_list[0:3]\n",
    "```\n",
    "\n",
    "It is equivalent to what other way of writing the same statement using **_slicing_**?  Hint, think about leaving out one of the numbers in the slice!\n",
    "\n",
    "**_Dictionaries_** are **_named_** **_collections_** of data that can be used to hold multiple pieces of information as **_values_** that are addressed by **_keys_** resulting in a **_key_** to **_value_** data structure.  They are accessed with `[` and `]` but intialized with `{` and `}`.  E.g.\n",
    "\n",
    "```\n",
    "my_dict = { 'cake' : 'Tasty!', 'toenails' : 'Gross!' }\n",
    "my_dict['cake']\n",
    "```\n",
    "\n",
    "Finally, we talked about **_flow control_** and using the concept of **_conditional execution_** to decide which code statements were executed.  Remember this figure?\n",
    "\n",
    "\n",
    "<img src=\"https://docs.oracle.com/cd/B19306_01/appdev.102/b14261/lnpls008.gif\">Flow control figure</img>\n",
    "\n",
    "What are the **_if_** statments?\n",
    "\n",
    "Where do **_for_** loops fit in?\n",
    "\n",
    "What was the overarching concept of a **_function_**?"
   ]
  },
  {
   "cell_type": "markdown",
   "metadata": {},
   "source": [
    "## 1. Loading data with ``pandas``\n",
    "\n",
    "With this simple Python computation experience under our belt, we can now move to doing some more interesting analysis."
   ]
  },
  {
   "cell_type": "markdown",
   "metadata": {},
   "source": [
    "### 1.1 Python's Data Science Ecosystem\n",
    "\n",
    "In addition to Python's built-in modules like the ``math`` module we explored above, there are also many often-used third-party modules that are core tools for doing data science with Python.\n",
    "Some of the most important ones are:\n",
    "\n",
    "#### [``numpy``](http://numpy.org/): Numerical Python\n",
    "\n",
    "Numpy is short for \"Numerical Python\", and contains tools for efficient manipulation of arrays of data.\n",
    "If you have used other computational tools like IDL or MatLab, Numpy should feel very familiar.\n",
    "\n",
    "#### [``scipy``](http://scipy.org/): Scientific Python\n",
    "\n",
    "Scipy is short for \"Scientific Python\", and contains a wide range of functionality for accomplishing common scientific tasks, such as optimization/minimization, numerical integration, interpolation, and much more.\n",
    "We will not look closely at Scipy today, but we will use its functionality later in the course.\n",
    "\n",
    "#### [``pandas``](http://pandas.pydata.org/): Labeled Data Manipulation in Python\n",
    "\n",
    "Pandas is short for \"Panel Data\", and contains tools for doing more advanced manipulation of labeled data in Python, in particular with a columnar data structure called a *Data Frame*.\n",
    "If you've used the [R](http://rstats.org) statistical language (and in particular the so-called \"Hadley Stack\"), much of the functionality in Pandas should feel very familiar.\n",
    "\n",
    "#### [``matplotlib``](http://matplotlib.org): Visualization in Python\n",
    "\n",
    "Matplotlib started out as a Matlab plotting clone in Python, and has grown from there in the 15 years since its creation. It is the most popular data visualization tool currently in the Python data world (though other recent packages are starting to encroach on its monopoly)."
   ]
  },
  {
   "cell_type": "markdown",
   "metadata": {},
   "source": [
    "### 1.2 Installing Pandas & friends\n",
    "\n",
    "Because the above packages are not included in Python itself, you need to install them separately. While it is possible to install these from source (compiling the C and/or Fortran code that does the heavy lifting under the hood) it is much easier to use a package manager like ``conda``. All it takes is to run\n",
    "\n",
    "```\n",
    "$ conda install numpy scipy pandas matplotlib\n",
    "```\n",
    "\n",
    "and (so long as your conda setup is working) the packages will be downloaded and installed on your system."
   ]
  },
  {
   "cell_type": "markdown",
   "metadata": {},
   "source": [
    "### 1.3 Importing Pandas to use in a notebook\n",
    "\n",
    "We begin by loading the Panda's package.  Packages are collections of functions that share a common utility.  We've seen `import` before.  Let's use it to import Pandas and all the richness that pandas has."
   ]
  },
  {
   "cell_type": "markdown",
   "metadata": {},
   "source": [
    "```\n",
    "import pandas\n",
    "```"
   ]
  },
  {
   "cell_type": "code",
   "execution_count": 6,
   "metadata": {},
   "outputs": [],
   "source": [
    "import pandas"
   ]
  },
  {
   "cell_type": "markdown",
   "metadata": {},
   "source": [
    "```\n",
    "df = pandas.DataFrame()\n",
    "```"
   ]
  },
  {
   "cell_type": "code",
   "execution_count": null,
   "metadata": {},
   "outputs": [],
   "source": [
    "df = pandas.DataFrame()"
   ]
  },
  {
   "cell_type": "markdown",
   "metadata": {},
   "source": [
    "Because we'll use it so much, we often import under a shortened name using the ``import ... as ...`` pattern:"
   ]
  },
  {
   "cell_type": "markdown",
   "metadata": {},
   "source": [
    "```\n",
    "import pandas as pd\n",
    "import numpy as np\n",
    "```"
   ]
  },
  {
   "cell_type": "code",
   "execution_count": 5,
   "metadata": {},
   "outputs": [],
   "source": [
    "import pandas as pd\n",
    "import numpy as np"
   ]
  },
  {
   "cell_type": "markdown",
   "metadata": {},
   "source": [
    "Let's create an empty _data frame_ and put the result into a variable called `df`.  This is a popular choice for a _data frame_ variable name."
   ]
  },
  {
   "cell_type": "markdown",
   "metadata": {},
   "source": [
    "```\n",
    "df = pd.DataFrame()\n",
    "```"
   ]
  },
  {
   "cell_type": "code",
   "execution_count": 7,
   "metadata": {},
   "outputs": [],
   "source": [
    "df = pd.DataFrame()"
   ]
  },
  {
   "cell_type": "markdown",
   "metadata": {},
   "source": [
    "\n",
    "Let's create some random data as a pandas data frame.  Before we get to the dataframe, let's briefly talk about numpy's `random` function.  If we look at the [`random`](https://numpy.org/doc/stable/reference/random/generated/numpy.random.random.html) documentation, you can see it takes a size argument.  This should be a `list` or a `tuple` that says what the \"height\" and \"width\" of the generated data will be.  In our case, we will get 10 rows of data in three columns with the following:\n",
    "\n",
    "```\n",
    "np.random.random((10,3))\n",
    "```\n",
    "\n",
    "\n",
    "Notice we change the value of the `df` variable to point to a new data frame.\n",
    "\n",
    "```\n",
    "df = pd.DataFrame(data=np.random.random((10,3)), columns=['v1', 'v2', 'v3'])\n",
    "```"
   ]
  },
  {
   "cell_type": "code",
   "execution_count": 8,
   "metadata": {},
   "outputs": [],
   "source": [
    "df = pd.DataFrame(data=np.random.random((10,3)), columns=['v1', 'v2', 'v3'])"
   ]
  },
  {
   "cell_type": "markdown",
   "metadata": {},
   "source": [
    "*Note: strings in Python can be defined either with double quotes or single quotes*"
   ]
  },
  {
   "cell_type": "markdown",
   "metadata": {},
   "source": [
    "The ``head()`` and ``tail()`` methods show us the first and last rows of the data.\n",
    "\n",
    "```\n",
    "df.head()\n",
    "df.tail()\n",
    "```"
   ]
  },
  {
   "cell_type": "code",
   "execution_count": 9,
   "metadata": {},
   "outputs": [
    {
     "data": {
      "text/html": [
       "<div>\n",
       "<style scoped>\n",
       "    .dataframe tbody tr th:only-of-type {\n",
       "        vertical-align: middle;\n",
       "    }\n",
       "\n",
       "    .dataframe tbody tr th {\n",
       "        vertical-align: top;\n",
       "    }\n",
       "\n",
       "    .dataframe thead th {\n",
       "        text-align: right;\n",
       "    }\n",
       "</style>\n",
       "<table border=\"1\" class=\"dataframe\">\n",
       "  <thead>\n",
       "    <tr style=\"text-align: right;\">\n",
       "      <th></th>\n",
       "      <th>v1</th>\n",
       "      <th>v2</th>\n",
       "      <th>v3</th>\n",
       "    </tr>\n",
       "  </thead>\n",
       "  <tbody>\n",
       "    <tr>\n",
       "      <th>0</th>\n",
       "      <td>0.527354</td>\n",
       "      <td>0.853778</td>\n",
       "      <td>0.613118</td>\n",
       "    </tr>\n",
       "    <tr>\n",
       "      <th>1</th>\n",
       "      <td>0.326875</td>\n",
       "      <td>0.502720</td>\n",
       "      <td>0.934289</td>\n",
       "    </tr>\n",
       "    <tr>\n",
       "      <th>2</th>\n",
       "      <td>0.450199</td>\n",
       "      <td>0.964599</td>\n",
       "      <td>0.470033</td>\n",
       "    </tr>\n",
       "    <tr>\n",
       "      <th>3</th>\n",
       "      <td>0.688716</td>\n",
       "      <td>0.145346</td>\n",
       "      <td>0.347624</td>\n",
       "    </tr>\n",
       "    <tr>\n",
       "      <th>4</th>\n",
       "      <td>0.306533</td>\n",
       "      <td>0.522021</td>\n",
       "      <td>0.884101</td>\n",
       "    </tr>\n",
       "  </tbody>\n",
       "</table>\n",
       "</div>"
      ],
      "text/plain": [
       "         v1        v2        v3\n",
       "0  0.527354  0.853778  0.613118\n",
       "1  0.326875  0.502720  0.934289\n",
       "2  0.450199  0.964599  0.470033\n",
       "3  0.688716  0.145346  0.347624\n",
       "4  0.306533  0.522021  0.884101"
      ]
     },
     "execution_count": 9,
     "metadata": {},
     "output_type": "execute_result"
    }
   ],
   "source": [
    "df.head()"
   ]
  },
  {
   "cell_type": "code",
   "execution_count": 10,
   "metadata": {},
   "outputs": [
    {
     "data": {
      "text/html": [
       "<div>\n",
       "<style scoped>\n",
       "    .dataframe tbody tr th:only-of-type {\n",
       "        vertical-align: middle;\n",
       "    }\n",
       "\n",
       "    .dataframe tbody tr th {\n",
       "        vertical-align: top;\n",
       "    }\n",
       "\n",
       "    .dataframe thead th {\n",
       "        text-align: right;\n",
       "    }\n",
       "</style>\n",
       "<table border=\"1\" class=\"dataframe\">\n",
       "  <thead>\n",
       "    <tr style=\"text-align: right;\">\n",
       "      <th></th>\n",
       "      <th>v1</th>\n",
       "      <th>v2</th>\n",
       "      <th>v3</th>\n",
       "    </tr>\n",
       "  </thead>\n",
       "  <tbody>\n",
       "    <tr>\n",
       "      <th>5</th>\n",
       "      <td>0.257975</td>\n",
       "      <td>0.882625</td>\n",
       "      <td>0.208626</td>\n",
       "    </tr>\n",
       "    <tr>\n",
       "      <th>6</th>\n",
       "      <td>0.706208</td>\n",
       "      <td>0.732338</td>\n",
       "      <td>0.995615</td>\n",
       "    </tr>\n",
       "    <tr>\n",
       "      <th>7</th>\n",
       "      <td>0.304982</td>\n",
       "      <td>0.095597</td>\n",
       "      <td>0.065963</td>\n",
       "    </tr>\n",
       "    <tr>\n",
       "      <th>8</th>\n",
       "      <td>0.987826</td>\n",
       "      <td>0.740486</td>\n",
       "      <td>0.286329</td>\n",
       "    </tr>\n",
       "    <tr>\n",
       "      <th>9</th>\n",
       "      <td>0.369037</td>\n",
       "      <td>0.095214</td>\n",
       "      <td>0.820872</td>\n",
       "    </tr>\n",
       "  </tbody>\n",
       "</table>\n",
       "</div>"
      ],
      "text/plain": [
       "         v1        v2        v3\n",
       "5  0.257975  0.882625  0.208626\n",
       "6  0.706208  0.732338  0.995615\n",
       "7  0.304982  0.095597  0.065963\n",
       "8  0.987826  0.740486  0.286329\n",
       "9  0.369037  0.095214  0.820872"
      ]
     },
     "execution_count": 10,
     "metadata": {},
     "output_type": "execute_result"
    }
   ],
   "source": [
    "df.tail()"
   ]
  },
  {
   "cell_type": "markdown",
   "metadata": {},
   "source": [
    "### 1.4 Loading Data with Pandas"
   ]
  },
  {
   "cell_type": "markdown",
   "metadata": {},
   "source": [
    "Now we can use the ``read_csv`` command to read the comma-separated-value data.  This command is pretty sophisticated.  It can read data via a URL (Uniform Resource Locator, see Lecture 2).  Not only that, it can load data from a `.zip` file by on the fly decompressing it and opening the first `.csv` it finds.  You can open different `.csv` files in the `.zip` file with additional arguments.  See the [docs](https://pandas.pydata.org/docs/reference/api/pandas.read_csv.html) for more information."
   ]
  },
  {
   "cell_type": "code",
   "execution_count": 11,
   "metadata": {},
   "outputs": [],
   "source": [
    "data = pd.read_csv('http://faculty.washington.edu/dacb/HCEPDB_moldata.zip')"
   ]
  },
  {
   "cell_type": "markdown",
   "metadata": {},
   "source": [
    "### 1.5 Viewing Pandas Dataframes"
   ]
  },
  {
   "cell_type": "markdown",
   "metadata": {},
   "source": [
    "The ``head()`` and ``tail()`` methods show us the first and last rows of the data"
   ]
  },
  {
   "cell_type": "code",
   "execution_count": 12,
   "metadata": {},
   "outputs": [
    {
     "data": {
      "text/html": [
       "<div>\n",
       "<style scoped>\n",
       "    .dataframe tbody tr th:only-of-type {\n",
       "        vertical-align: middle;\n",
       "    }\n",
       "\n",
       "    .dataframe tbody tr th {\n",
       "        vertical-align: top;\n",
       "    }\n",
       "\n",
       "    .dataframe thead th {\n",
       "        text-align: right;\n",
       "    }\n",
       "</style>\n",
       "<table border=\"1\" class=\"dataframe\">\n",
       "  <thead>\n",
       "    <tr style=\"text-align: right;\">\n",
       "      <th></th>\n",
       "      <th>id</th>\n",
       "      <th>SMILES_str</th>\n",
       "      <th>stoich_str</th>\n",
       "      <th>mass</th>\n",
       "      <th>pce</th>\n",
       "      <th>voc</th>\n",
       "      <th>jsc</th>\n",
       "      <th>e_homo_alpha</th>\n",
       "      <th>e_gap_alpha</th>\n",
       "      <th>e_lumo_alpha</th>\n",
       "      <th>tmp_smiles_str</th>\n",
       "    </tr>\n",
       "  </thead>\n",
       "  <tbody>\n",
       "    <tr>\n",
       "      <th>0</th>\n",
       "      <td>655365</td>\n",
       "      <td>C1C=CC=C1c1cc2[se]c3c4occc4c4nsnc4c3c2cn1</td>\n",
       "      <td>C18H9N3OSSe</td>\n",
       "      <td>394.3151</td>\n",
       "      <td>5.161953</td>\n",
       "      <td>0.867601</td>\n",
       "      <td>91.567575</td>\n",
       "      <td>-5.467601</td>\n",
       "      <td>2.022944</td>\n",
       "      <td>-3.444656</td>\n",
       "      <td>C1=CC=C(C1)c1cc2[se]c3c4occc4c4nsnc4c3c2cn1</td>\n",
       "    </tr>\n",
       "    <tr>\n",
       "      <th>1</th>\n",
       "      <td>1245190</td>\n",
       "      <td>C1C=CC=C1c1cc2[se]c3c(ncc4ccccc34)c2c2=C[SiH2]...</td>\n",
       "      <td>C22H15NSeSi</td>\n",
       "      <td>400.4135</td>\n",
       "      <td>5.261398</td>\n",
       "      <td>0.504824</td>\n",
       "      <td>160.401549</td>\n",
       "      <td>-5.104824</td>\n",
       "      <td>1.630750</td>\n",
       "      <td>-3.474074</td>\n",
       "      <td>C1=CC=C(C1)c1cc2[se]c3c(ncc4ccccc34)c2c2=C[SiH...</td>\n",
       "    </tr>\n",
       "    <tr>\n",
       "      <th>2</th>\n",
       "      <td>21847</td>\n",
       "      <td>C1C=c2ccc3c4c[nH]cc4c4c5[SiH2]C(=Cc5oc4c3c2=C1...</td>\n",
       "      <td>C24H17NOSi</td>\n",
       "      <td>363.4903</td>\n",
       "      <td>0.000000</td>\n",
       "      <td>0.000000</td>\n",
       "      <td>197.474780</td>\n",
       "      <td>-4.539526</td>\n",
       "      <td>1.462158</td>\n",
       "      <td>-3.077368</td>\n",
       "      <td>C1=CC=C(C1)C1=Cc2oc3c(c2[SiH2]1)c1c[nH]cc1c1cc...</td>\n",
       "    </tr>\n",
       "    <tr>\n",
       "      <th>3</th>\n",
       "      <td>65553</td>\n",
       "      <td>[SiH2]1C=CC2=C1C=C([SiH2]2)C1=Cc2[se]ccc2[SiH2]1</td>\n",
       "      <td>C12H12SeSi3</td>\n",
       "      <td>319.4448</td>\n",
       "      <td>6.138294</td>\n",
       "      <td>0.630274</td>\n",
       "      <td>149.887545</td>\n",
       "      <td>-5.230274</td>\n",
       "      <td>1.682250</td>\n",
       "      <td>-3.548025</td>\n",
       "      <td>C1=CC2=C([SiH2]1)C=C([SiH2]2)C1=Cc2[se]ccc2[Si...</td>\n",
       "    </tr>\n",
       "    <tr>\n",
       "      <th>4</th>\n",
       "      <td>720918</td>\n",
       "      <td>C1C=c2c3ccsc3c3[se]c4cc(oc4c3c2=C1)C1=CC=CC1</td>\n",
       "      <td>C20H12OSSe</td>\n",
       "      <td>379.3398</td>\n",
       "      <td>1.991366</td>\n",
       "      <td>0.242119</td>\n",
       "      <td>126.581347</td>\n",
       "      <td>-4.842119</td>\n",
       "      <td>1.809439</td>\n",
       "      <td>-3.032680</td>\n",
       "      <td>C1=CC=C(C1)c1cc2[se]c3c4sccc4c4=CCC=c4c3c2o1</td>\n",
       "    </tr>\n",
       "  </tbody>\n",
       "</table>\n",
       "</div>"
      ],
      "text/plain": [
       "        id                                         SMILES_str   stoich_str  \\\n",
       "0   655365          C1C=CC=C1c1cc2[se]c3c4occc4c4nsnc4c3c2cn1  C18H9N3OSSe   \n",
       "1  1245190  C1C=CC=C1c1cc2[se]c3c(ncc4ccccc34)c2c2=C[SiH2]...  C22H15NSeSi   \n",
       "2    21847  C1C=c2ccc3c4c[nH]cc4c4c5[SiH2]C(=Cc5oc4c3c2=C1...   C24H17NOSi   \n",
       "3    65553   [SiH2]1C=CC2=C1C=C([SiH2]2)C1=Cc2[se]ccc2[SiH2]1  C12H12SeSi3   \n",
       "4   720918       C1C=c2c3ccsc3c3[se]c4cc(oc4c3c2=C1)C1=CC=CC1   C20H12OSSe   \n",
       "\n",
       "       mass       pce       voc         jsc  e_homo_alpha  e_gap_alpha  \\\n",
       "0  394.3151  5.161953  0.867601   91.567575     -5.467601     2.022944   \n",
       "1  400.4135  5.261398  0.504824  160.401549     -5.104824     1.630750   \n",
       "2  363.4903  0.000000  0.000000  197.474780     -4.539526     1.462158   \n",
       "3  319.4448  6.138294  0.630274  149.887545     -5.230274     1.682250   \n",
       "4  379.3398  1.991366  0.242119  126.581347     -4.842119     1.809439   \n",
       "\n",
       "   e_lumo_alpha                                     tmp_smiles_str  \n",
       "0     -3.444656        C1=CC=C(C1)c1cc2[se]c3c4occc4c4nsnc4c3c2cn1  \n",
       "1     -3.474074  C1=CC=C(C1)c1cc2[se]c3c(ncc4ccccc34)c2c2=C[SiH...  \n",
       "2     -3.077368  C1=CC=C(C1)C1=Cc2oc3c(c2[SiH2]1)c1c[nH]cc1c1cc...  \n",
       "3     -3.548025  C1=CC2=C([SiH2]1)C=C([SiH2]2)C1=Cc2[se]ccc2[Si...  \n",
       "4     -3.032680       C1=CC=C(C1)c1cc2[se]c3c4sccc4c4=CCC=c4c3c2o1  "
      ]
     },
     "execution_count": 12,
     "metadata": {},
     "output_type": "execute_result"
    }
   ],
   "source": [
    "data.head()"
   ]
  },
  {
   "cell_type": "code",
   "execution_count": 13,
   "metadata": {},
   "outputs": [
    {
     "data": {
      "text/html": [
       "<div>\n",
       "<style scoped>\n",
       "    .dataframe tbody tr th:only-of-type {\n",
       "        vertical-align: middle;\n",
       "    }\n",
       "\n",
       "    .dataframe tbody tr th {\n",
       "        vertical-align: top;\n",
       "    }\n",
       "\n",
       "    .dataframe thead th {\n",
       "        text-align: right;\n",
       "    }\n",
       "</style>\n",
       "<table border=\"1\" class=\"dataframe\">\n",
       "  <thead>\n",
       "    <tr style=\"text-align: right;\">\n",
       "      <th></th>\n",
       "      <th>id</th>\n",
       "      <th>SMILES_str</th>\n",
       "      <th>stoich_str</th>\n",
       "      <th>mass</th>\n",
       "      <th>pce</th>\n",
       "      <th>voc</th>\n",
       "      <th>jsc</th>\n",
       "      <th>e_homo_alpha</th>\n",
       "      <th>e_gap_alpha</th>\n",
       "      <th>e_lumo_alpha</th>\n",
       "      <th>tmp_smiles_str</th>\n",
       "    </tr>\n",
       "  </thead>\n",
       "  <tbody>\n",
       "    <tr>\n",
       "      <th>2322844</th>\n",
       "      <td>2543603</td>\n",
       "      <td>[SiH2]1ccc2csc(c12)-c1sc(c2[SiH2]ccc12)-c1cnc(...</td>\n",
       "      <td>C22H14N4S3Si2</td>\n",
       "      <td>486.7506</td>\n",
       "      <td>0.000000</td>\n",
       "      <td>0.000000</td>\n",
       "      <td>0.000000</td>\n",
       "      <td>-5.632512</td>\n",
       "      <td>1.454082</td>\n",
       "      <td>-4.178430</td>\n",
       "      <td>c1sc(c2[SiH2]ccc12)-c1sc(c2[SiH2]ccc12)-c1cnc(...</td>\n",
       "    </tr>\n",
       "    <tr>\n",
       "      <th>2322845</th>\n",
       "      <td>2304057</td>\n",
       "      <td>[SiH2]1ccc2csc(c12)-c1sc(c2[SiH2]ccc12)-c1ccc(...</td>\n",
       "      <td>C22H14N4S3Si2</td>\n",
       "      <td>486.7506</td>\n",
       "      <td>9.335485</td>\n",
       "      <td>1.120744</td>\n",
       "      <td>128.197094</td>\n",
       "      <td>-5.720744</td>\n",
       "      <td>1.798600</td>\n",
       "      <td>-3.922144</td>\n",
       "      <td>c1sc(c2[SiH2]ccc12)-c1sc(c2[SiH2]ccc12)-c1ccc(...</td>\n",
       "    </tr>\n",
       "    <tr>\n",
       "      <th>2322846</th>\n",
       "      <td>2007035</td>\n",
       "      <td>[SiH2]1ccc2csc(c12)-c1sc(c2[SiH2]ccc12)-c1ccc(...</td>\n",
       "      <td>C26H18S3Si2</td>\n",
       "      <td>482.7982</td>\n",
       "      <td>2.498209</td>\n",
       "      <td>0.834995</td>\n",
       "      <td>46.046052</td>\n",
       "      <td>-5.434995</td>\n",
       "      <td>2.433160</td>\n",
       "      <td>-3.001835</td>\n",
       "      <td>c1sc(c2[SiH2]ccc12)-c1sc(c2[SiH2]ccc12)-c1ccc(...</td>\n",
       "    </tr>\n",
       "    <tr>\n",
       "      <th>2322847</th>\n",
       "      <td>1961981</td>\n",
       "      <td>C1ccc2c1c(sc2-c1scc2cc[SiH2]c12)-c1ccc(cc1)-c1...</td>\n",
       "      <td>C25H16S3SeSi</td>\n",
       "      <td>519.6454</td>\n",
       "      <td>2.679067</td>\n",
       "      <td>0.659243</td>\n",
       "      <td>62.544032</td>\n",
       "      <td>-5.259243</td>\n",
       "      <td>2.258468</td>\n",
       "      <td>-3.000775</td>\n",
       "      <td>c1sc(c2[SiH2]ccc12)-c1sc(c2Cccc12)-c1ccc(cc1)-...</td>\n",
       "    </tr>\n",
       "    <tr>\n",
       "      <th>2322848</th>\n",
       "      <td>2754558</td>\n",
       "      <td>[SiH2]1ccc2csc(c12)-c1sc(-c2sc(-c3scc4ccsc34)c...</td>\n",
       "      <td>C24H13NOS5Si</td>\n",
       "      <td>519.7887</td>\n",
       "      <td>1.272400</td>\n",
       "      <td>0.102802</td>\n",
       "      <td>190.489616</td>\n",
       "      <td>-4.702802</td>\n",
       "      <td>1.490950</td>\n",
       "      <td>-3.211851</td>\n",
       "      <td>c1sc(c2[SiH2]ccc12)-c1sc(-c2sc(-c3scc4ccsc34)c...</td>\n",
       "    </tr>\n",
       "  </tbody>\n",
       "</table>\n",
       "</div>"
      ],
      "text/plain": [
       "              id                                         SMILES_str  \\\n",
       "2322844  2543603  [SiH2]1ccc2csc(c12)-c1sc(c2[SiH2]ccc12)-c1cnc(...   \n",
       "2322845  2304057  [SiH2]1ccc2csc(c12)-c1sc(c2[SiH2]ccc12)-c1ccc(...   \n",
       "2322846  2007035  [SiH2]1ccc2csc(c12)-c1sc(c2[SiH2]ccc12)-c1ccc(...   \n",
       "2322847  1961981  C1ccc2c1c(sc2-c1scc2cc[SiH2]c12)-c1ccc(cc1)-c1...   \n",
       "2322848  2754558  [SiH2]1ccc2csc(c12)-c1sc(-c2sc(-c3scc4ccsc34)c...   \n",
       "\n",
       "            stoich_str      mass       pce       voc         jsc  \\\n",
       "2322844  C22H14N4S3Si2  486.7506  0.000000  0.000000    0.000000   \n",
       "2322845  C22H14N4S3Si2  486.7506  9.335485  1.120744  128.197094   \n",
       "2322846    C26H18S3Si2  482.7982  2.498209  0.834995   46.046052   \n",
       "2322847   C25H16S3SeSi  519.6454  2.679067  0.659243   62.544032   \n",
       "2322848   C24H13NOS5Si  519.7887  1.272400  0.102802  190.489616   \n",
       "\n",
       "         e_homo_alpha  e_gap_alpha  e_lumo_alpha  \\\n",
       "2322844     -5.632512     1.454082     -4.178430   \n",
       "2322845     -5.720744     1.798600     -3.922144   \n",
       "2322846     -5.434995     2.433160     -3.001835   \n",
       "2322847     -5.259243     2.258468     -3.000775   \n",
       "2322848     -4.702802     1.490950     -3.211851   \n",
       "\n",
       "                                            tmp_smiles_str  \n",
       "2322844  c1sc(c2[SiH2]ccc12)-c1sc(c2[SiH2]ccc12)-c1cnc(...  \n",
       "2322845  c1sc(c2[SiH2]ccc12)-c1sc(c2[SiH2]ccc12)-c1ccc(...  \n",
       "2322846  c1sc(c2[SiH2]ccc12)-c1sc(c2[SiH2]ccc12)-c1ccc(...  \n",
       "2322847  c1sc(c2[SiH2]ccc12)-c1sc(c2Cccc12)-c1ccc(cc1)-...  \n",
       "2322848  c1sc(c2[SiH2]ccc12)-c1sc(-c2sc(-c3scc4ccsc34)c...  "
      ]
     },
     "execution_count": 13,
     "metadata": {},
     "output_type": "execute_result"
    }
   ],
   "source": [
    "data.tail()"
   ]
  },
  {
   "cell_type": "markdown",
   "metadata": {},
   "source": [
    "The ``shape`` attribute shows us the number of elements:\n",
    "\n",
    "```\n",
    "data.shape\n",
    "```"
   ]
  },
  {
   "cell_type": "code",
   "execution_count": 14,
   "metadata": {},
   "outputs": [
    {
     "data": {
      "text/plain": [
       "(2322849, 11)"
      ]
     },
     "execution_count": 14,
     "metadata": {},
     "output_type": "execute_result"
    }
   ],
   "source": [
    "data.shape"
   ]
  },
  {
   "cell_type": "markdown",
   "metadata": {},
   "source": [
    "The ``columns`` attribute gives us the column names\n",
    "\n",
    "```\n",
    "data.columns\n",
    "```"
   ]
  },
  {
   "cell_type": "code",
   "execution_count": 15,
   "metadata": {},
   "outputs": [
    {
     "data": {
      "text/plain": [
       "Index(['id', 'SMILES_str', 'stoich_str', 'mass', 'pce', 'voc', 'jsc',\n",
       "       'e_homo_alpha', 'e_gap_alpha', 'e_lumo_alpha', 'tmp_smiles_str'],\n",
       "      dtype='object')"
      ]
     },
     "execution_count": 15,
     "metadata": {},
     "output_type": "execute_result"
    }
   ],
   "source": [
    "data.columns"
   ]
  },
  {
   "cell_type": "markdown",
   "metadata": {},
   "source": [
    "### 1.6 Indexes** or Indices** in Pandas\n",
    "\n",
    "The ``index`` attribute gives us the index names\n",
    "\n",
    "```\n",
    "data.index\n",
    "```\n",
    "\n",
    "** Index is one of a few words with multiple acceptable plural variants"
   ]
  },
  {
   "cell_type": "code",
   "execution_count": 17,
   "metadata": {},
   "outputs": [
    {
     "data": {
      "text/plain": [
       "Index([ 655365, 1245190,   21847,   65553,  720918, 1310744,  196637,  262174,\n",
       "        393249,      35,\n",
       "       ...\n",
       "       1703911, 1814506, 2559314, 2351086, 1712111, 2543603, 2304057, 2007035,\n",
       "       1961981, 2754558],\n",
       "      dtype='int64', name='id', length=2322849)"
      ]
     },
     "execution_count": 17,
     "metadata": {},
     "output_type": "execute_result"
    }
   ],
   "source": [
    "data.index"
   ]
  },
  {
   "cell_type": "markdown",
   "metadata": {},
   "source": [
    "Let's make our ``id`` column the ``index``\n",
    "\n",
    "```\n",
    "data.set_index('id', inplace=True)\n",
    "```\n",
    "\n",
    "*Note:* the use of `inplace=True`.  This cases the original data frame to be modified *in place* instead of creating a new data frame and returning the result to be stored in a new variable."
   ]
  },
  {
   "cell_type": "code",
   "execution_count": 19,
   "metadata": {},
   "outputs": [
    {
     "ename": "KeyError",
     "evalue": "\"None of ['id'] are in the columns\"",
     "output_type": "error",
     "traceback": [
      "\u001b[0;31m---------------------------------------------------------------------------\u001b[0m",
      "\u001b[0;31mKeyError\u001b[0m                                  Traceback (most recent call last)",
      "\u001b[0;32m/tmp/ipykernel_22829/2631824838.py\u001b[0m in \u001b[0;36m?\u001b[0;34m()\u001b[0m\n\u001b[1;32m      1\u001b[0m \u001b[0;31m# note inplace!\u001b[0m\u001b[0;34m\u001b[0m\u001b[0;34m\u001b[0m\u001b[0m\n\u001b[0;32m----> 2\u001b[0;31m \u001b[0mdata\u001b[0m\u001b[0;34m.\u001b[0m\u001b[0mset_index\u001b[0m\u001b[0;34m(\u001b[0m\u001b[0;34m'id'\u001b[0m\u001b[0;34m,\u001b[0m \u001b[0minplace\u001b[0m\u001b[0;34m=\u001b[0m\u001b[0;32mTrue\u001b[0m\u001b[0;34m)\u001b[0m\u001b[0;34m\u001b[0m\u001b[0;34m\u001b[0m\u001b[0m\n\u001b[0m",
      "\u001b[0;32m~/miniconda3/lib/python3.12/site-packages/pandas/core/frame.py\u001b[0m in \u001b[0;36m?\u001b[0;34m(self, keys, drop, append, inplace, verify_integrity)\u001b[0m\n\u001b[1;32m   6118\u001b[0m                     \u001b[0;32mif\u001b[0m \u001b[0;32mnot\u001b[0m \u001b[0mfound\u001b[0m\u001b[0;34m:\u001b[0m\u001b[0;34m\u001b[0m\u001b[0;34m\u001b[0m\u001b[0m\n\u001b[1;32m   6119\u001b[0m                         \u001b[0mmissing\u001b[0m\u001b[0;34m.\u001b[0m\u001b[0mappend\u001b[0m\u001b[0;34m(\u001b[0m\u001b[0mcol\u001b[0m\u001b[0;34m)\u001b[0m\u001b[0;34m\u001b[0m\u001b[0;34m\u001b[0m\u001b[0m\n\u001b[1;32m   6120\u001b[0m \u001b[0;34m\u001b[0m\u001b[0m\n\u001b[1;32m   6121\u001b[0m         \u001b[0;32mif\u001b[0m \u001b[0mmissing\u001b[0m\u001b[0;34m:\u001b[0m\u001b[0;34m\u001b[0m\u001b[0;34m\u001b[0m\u001b[0m\n\u001b[0;32m-> 6122\u001b[0;31m             \u001b[0;32mraise\u001b[0m \u001b[0mKeyError\u001b[0m\u001b[0;34m(\u001b[0m\u001b[0;34mf\"\u001b[0m\u001b[0;34mNone of \u001b[0m\u001b[0;34m{\u001b[0m\u001b[0mmissing\u001b[0m\u001b[0;34m}\u001b[0m\u001b[0;34m are in the columns\u001b[0m\u001b[0;34m\"\u001b[0m\u001b[0;34m)\u001b[0m\u001b[0;34m\u001b[0m\u001b[0;34m\u001b[0m\u001b[0m\n\u001b[0m\u001b[1;32m   6123\u001b[0m \u001b[0;34m\u001b[0m\u001b[0m\n\u001b[1;32m   6124\u001b[0m         \u001b[0;32mif\u001b[0m \u001b[0minplace\u001b[0m\u001b[0;34m:\u001b[0m\u001b[0;34m\u001b[0m\u001b[0;34m\u001b[0m\u001b[0m\n\u001b[1;32m   6125\u001b[0m             \u001b[0mframe\u001b[0m \u001b[0;34m=\u001b[0m \u001b[0mself\u001b[0m\u001b[0;34m\u001b[0m\u001b[0;34m\u001b[0m\u001b[0m\n",
      "\u001b[0;31mKeyError\u001b[0m: \"None of ['id'] are in the columns\""
     ]
    }
   ],
   "source": [
    "# note inplace!\n",
    "data.set_index('id', inplace=True)"
   ]
  },
  {
   "cell_type": "markdown",
   "metadata": {},
   "source": [
    "Now let's revisit the ``data.index``\n",
    "\n",
    "```\n",
    "data.index\n",
    "```"
   ]
  },
  {
   "cell_type": "code",
   "execution_count": 18,
   "metadata": {},
   "outputs": [
    {
     "data": {
      "text/plain": [
       "Index([ 655365, 1245190,   21847,   65553,  720918, 1310744,  196637,  262174,\n",
       "        393249,      35,\n",
       "       ...\n",
       "       1703911, 1814506, 2559314, 2351086, 1712111, 2543603, 2304057, 2007035,\n",
       "       1961981, 2754558],\n",
       "      dtype='int64', name='id', length=2322849)"
      ]
     },
     "execution_count": 18,
     "metadata": {},
     "output_type": "execute_result"
    }
   ],
   "source": [
    "data.index"
   ]
  },
  {
   "cell_type": "markdown",
   "metadata": {},
   "source": [
    "View it with head again:"
   ]
  },
  {
   "cell_type": "markdown",
   "metadata": {},
   "source": [
    "```\n",
    "data.head()\n",
    "```"
   ]
  },
  {
   "cell_type": "code",
   "execution_count": null,
   "metadata": {},
   "outputs": [],
   "source": [
    "data.head()"
   ]
  },
  {
   "cell_type": "markdown",
   "metadata": {},
   "source": [
    "```\n",
    "data.tail()\n",
    "```"
   ]
  },
  {
   "cell_type": "code",
   "execution_count": null,
   "metadata": {},
   "outputs": [],
   "source": [
    "data.tail()"
   ]
  },
  {
   "cell_type": "markdown",
   "metadata": {},
   "source": [
    "The ``dtypes`` attribute gives the data types of each column:"
   ]
  },
  {
   "cell_type": "markdown",
   "metadata": {},
   "source": [
    "```\n",
    "data.dtypes\n",
    "```"
   ]
  },
  {
   "cell_type": "code",
   "execution_count": null,
   "metadata": {},
   "outputs": [],
   "source": [
    "data.dtypes"
   ]
  },
  {
   "cell_type": "markdown",
   "metadata": {},
   "source": [
    "## 2. Manipulating data with ``pandas``\n",
    "\n",
    "Here we'll cover some key features of manipulating data with pandas"
   ]
  },
  {
   "cell_type": "markdown",
   "metadata": {},
   "source": [
    "Access columns by name using square-bracket indexing:\n",
    "\n",
    "```\n",
    "data['mass']\n",
    "```"
   ]
  },
  {
   "cell_type": "code",
   "execution_count": 20,
   "metadata": {},
   "outputs": [
    {
     "data": {
      "text/plain": [
       "id\n",
       "655365     394.3151\n",
       "1245190    400.4135\n",
       "21847      363.4903\n",
       "65553      319.4448\n",
       "720918     379.3398\n",
       "             ...   \n",
       "2543603    486.7506\n",
       "2304057    486.7506\n",
       "2007035    482.7982\n",
       "1961981    519.6454\n",
       "2754558    519.7887\n",
       "Name: mass, Length: 2322849, dtype: float64"
      ]
     },
     "execution_count": 20,
     "metadata": {},
     "output_type": "execute_result"
    }
   ],
   "source": [
    "data['mass']"
   ]
  },
  {
   "cell_type": "markdown",
   "metadata": {},
   "source": [
    "Mathematical operations on columns happen *element-wise* (note 18.01528 is the weight of H2O):\n",
    "\n",
    "```\n",
    "data['mass'] / 18.01528\n",
    "```"
   ]
  },
  {
   "cell_type": "code",
   "execution_count": 21,
   "metadata": {},
   "outputs": [
    {
     "data": {
      "text/plain": [
       "id\n",
       "655365     21.887814\n",
       "1245190    22.226327\n",
       "21847      20.176778\n",
       "65553      17.731881\n",
       "720918     21.056559\n",
       "             ...    \n",
       "2543603    27.018764\n",
       "2304057    27.018764\n",
       "2007035    26.799373\n",
       "1961981    28.844703\n",
       "2754558    28.852657\n",
       "Name: mass, Length: 2322849, dtype: float64"
      ]
     },
     "execution_count": 21,
     "metadata": {},
     "output_type": "execute_result"
    }
   ],
   "source": [
    "data['mass'] / 18.01528"
   ]
  },
  {
   "cell_type": "markdown",
   "metadata": {},
   "source": [
    "Columns can be created (or overwritten) with the assignment operator.\n",
    "Let's create a *mass_ratio_H2O* column with the mass ratio of each molecule to H2O:\n",
    "\n",
    "```\n",
    "data['mass_ratio_H2O'] = data['mass'] / 18.01528\n",
    "```"
   ]
  },
  {
   "cell_type": "code",
   "execution_count": 22,
   "metadata": {},
   "outputs": [],
   "source": [
    "data['mass_ratio_H2O'] = data['mass'] / 18.01528"
   ]
  },
  {
   "cell_type": "markdown",
   "metadata": {},
   "source": [
    "Now let's view our dataframe including the new columns.\n",
    "\n",
    "```\n",
    "data.head()\n",
    "```"
   ]
  },
  {
   "cell_type": "code",
   "execution_count": 23,
   "metadata": {},
   "outputs": [
    {
     "data": {
      "text/html": [
       "<div>\n",
       "<style scoped>\n",
       "    .dataframe tbody tr th:only-of-type {\n",
       "        vertical-align: middle;\n",
       "    }\n",
       "\n",
       "    .dataframe tbody tr th {\n",
       "        vertical-align: top;\n",
       "    }\n",
       "\n",
       "    .dataframe thead th {\n",
       "        text-align: right;\n",
       "    }\n",
       "</style>\n",
       "<table border=\"1\" class=\"dataframe\">\n",
       "  <thead>\n",
       "    <tr style=\"text-align: right;\">\n",
       "      <th></th>\n",
       "      <th>SMILES_str</th>\n",
       "      <th>stoich_str</th>\n",
       "      <th>mass</th>\n",
       "      <th>pce</th>\n",
       "      <th>voc</th>\n",
       "      <th>jsc</th>\n",
       "      <th>e_homo_alpha</th>\n",
       "      <th>e_gap_alpha</th>\n",
       "      <th>e_lumo_alpha</th>\n",
       "      <th>tmp_smiles_str</th>\n",
       "      <th>mass_ratio_H2O</th>\n",
       "    </tr>\n",
       "    <tr>\n",
       "      <th>id</th>\n",
       "      <th></th>\n",
       "      <th></th>\n",
       "      <th></th>\n",
       "      <th></th>\n",
       "      <th></th>\n",
       "      <th></th>\n",
       "      <th></th>\n",
       "      <th></th>\n",
       "      <th></th>\n",
       "      <th></th>\n",
       "      <th></th>\n",
       "    </tr>\n",
       "  </thead>\n",
       "  <tbody>\n",
       "    <tr>\n",
       "      <th>655365</th>\n",
       "      <td>C1C=CC=C1c1cc2[se]c3c4occc4c4nsnc4c3c2cn1</td>\n",
       "      <td>C18H9N3OSSe</td>\n",
       "      <td>394.3151</td>\n",
       "      <td>5.161953</td>\n",
       "      <td>0.867601</td>\n",
       "      <td>91.567575</td>\n",
       "      <td>-5.467601</td>\n",
       "      <td>2.022944</td>\n",
       "      <td>-3.444656</td>\n",
       "      <td>C1=CC=C(C1)c1cc2[se]c3c4occc4c4nsnc4c3c2cn1</td>\n",
       "      <td>21.887814</td>\n",
       "    </tr>\n",
       "    <tr>\n",
       "      <th>1245190</th>\n",
       "      <td>C1C=CC=C1c1cc2[se]c3c(ncc4ccccc34)c2c2=C[SiH2]...</td>\n",
       "      <td>C22H15NSeSi</td>\n",
       "      <td>400.4135</td>\n",
       "      <td>5.261398</td>\n",
       "      <td>0.504824</td>\n",
       "      <td>160.401549</td>\n",
       "      <td>-5.104824</td>\n",
       "      <td>1.630750</td>\n",
       "      <td>-3.474074</td>\n",
       "      <td>C1=CC=C(C1)c1cc2[se]c3c(ncc4ccccc34)c2c2=C[SiH...</td>\n",
       "      <td>22.226327</td>\n",
       "    </tr>\n",
       "    <tr>\n",
       "      <th>21847</th>\n",
       "      <td>C1C=c2ccc3c4c[nH]cc4c4c5[SiH2]C(=Cc5oc4c3c2=C1...</td>\n",
       "      <td>C24H17NOSi</td>\n",
       "      <td>363.4903</td>\n",
       "      <td>0.000000</td>\n",
       "      <td>0.000000</td>\n",
       "      <td>197.474780</td>\n",
       "      <td>-4.539526</td>\n",
       "      <td>1.462158</td>\n",
       "      <td>-3.077368</td>\n",
       "      <td>C1=CC=C(C1)C1=Cc2oc3c(c2[SiH2]1)c1c[nH]cc1c1cc...</td>\n",
       "      <td>20.176778</td>\n",
       "    </tr>\n",
       "    <tr>\n",
       "      <th>65553</th>\n",
       "      <td>[SiH2]1C=CC2=C1C=C([SiH2]2)C1=Cc2[se]ccc2[SiH2]1</td>\n",
       "      <td>C12H12SeSi3</td>\n",
       "      <td>319.4448</td>\n",
       "      <td>6.138294</td>\n",
       "      <td>0.630274</td>\n",
       "      <td>149.887545</td>\n",
       "      <td>-5.230274</td>\n",
       "      <td>1.682250</td>\n",
       "      <td>-3.548025</td>\n",
       "      <td>C1=CC2=C([SiH2]1)C=C([SiH2]2)C1=Cc2[se]ccc2[Si...</td>\n",
       "      <td>17.731881</td>\n",
       "    </tr>\n",
       "    <tr>\n",
       "      <th>720918</th>\n",
       "      <td>C1C=c2c3ccsc3c3[se]c4cc(oc4c3c2=C1)C1=CC=CC1</td>\n",
       "      <td>C20H12OSSe</td>\n",
       "      <td>379.3398</td>\n",
       "      <td>1.991366</td>\n",
       "      <td>0.242119</td>\n",
       "      <td>126.581347</td>\n",
       "      <td>-4.842119</td>\n",
       "      <td>1.809439</td>\n",
       "      <td>-3.032680</td>\n",
       "      <td>C1=CC=C(C1)c1cc2[se]c3c4sccc4c4=CCC=c4c3c2o1</td>\n",
       "      <td>21.056559</td>\n",
       "    </tr>\n",
       "  </tbody>\n",
       "</table>\n",
       "</div>"
      ],
      "text/plain": [
       "                                                SMILES_str   stoich_str  \\\n",
       "id                                                                        \n",
       "655365           C1C=CC=C1c1cc2[se]c3c4occc4c4nsnc4c3c2cn1  C18H9N3OSSe   \n",
       "1245190  C1C=CC=C1c1cc2[se]c3c(ncc4ccccc34)c2c2=C[SiH2]...  C22H15NSeSi   \n",
       "21847    C1C=c2ccc3c4c[nH]cc4c4c5[SiH2]C(=Cc5oc4c3c2=C1...   C24H17NOSi   \n",
       "65553     [SiH2]1C=CC2=C1C=C([SiH2]2)C1=Cc2[se]ccc2[SiH2]1  C12H12SeSi3   \n",
       "720918        C1C=c2c3ccsc3c3[se]c4cc(oc4c3c2=C1)C1=CC=CC1   C20H12OSSe   \n",
       "\n",
       "             mass       pce       voc         jsc  e_homo_alpha  e_gap_alpha  \\\n",
       "id                                                                             \n",
       "655365   394.3151  5.161953  0.867601   91.567575     -5.467601     2.022944   \n",
       "1245190  400.4135  5.261398  0.504824  160.401549     -5.104824     1.630750   \n",
       "21847    363.4903  0.000000  0.000000  197.474780     -4.539526     1.462158   \n",
       "65553    319.4448  6.138294  0.630274  149.887545     -5.230274     1.682250   \n",
       "720918   379.3398  1.991366  0.242119  126.581347     -4.842119     1.809439   \n",
       "\n",
       "         e_lumo_alpha                                     tmp_smiles_str  \\\n",
       "id                                                                         \n",
       "655365      -3.444656        C1=CC=C(C1)c1cc2[se]c3c4occc4c4nsnc4c3c2cn1   \n",
       "1245190     -3.474074  C1=CC=C(C1)c1cc2[se]c3c(ncc4ccccc34)c2c2=C[SiH...   \n",
       "21847       -3.077368  C1=CC=C(C1)C1=Cc2oc3c(c2[SiH2]1)c1c[nH]cc1c1cc...   \n",
       "65553       -3.548025  C1=CC2=C([SiH2]1)C=C([SiH2]2)C1=Cc2[se]ccc2[Si...   \n",
       "720918      -3.032680       C1=CC=C(C1)c1cc2[se]c3c4sccc4c4=CCC=c4c3c2o1   \n",
       "\n",
       "         mass_ratio_H2O  \n",
       "id                       \n",
       "655365        21.887814  \n",
       "1245190       22.226327  \n",
       "21847         20.176778  \n",
       "65553         17.731881  \n",
       "720918        21.056559  "
      ]
     },
     "execution_count": 23,
     "metadata": {},
     "output_type": "execute_result"
    }
   ],
   "source": [
    "data.head()"
   ]
  },
  {
   "cell_type": "markdown",
   "metadata": {},
   "source": [
    "In preparation for grouping the data, let's bin the molecules by their molecular mass. For that, we'll use ``pd.cut``.  Documentation of [cut](https://pandas.pydata.org/docs/reference/api/pandas.cut.html).  Cut is used when you want to bin numeric values into discrete intervals.  This is useful for discretizing continuous data and for making histograms.\n",
    "\n",
    "```\n",
    "data['mass_group'] = pd.cut(data['mass'], 10)\n",
    "```"
   ]
  },
  {
   "cell_type": "code",
   "execution_count": 24,
   "metadata": {},
   "outputs": [],
   "source": [
    "data['mass_group'] = pd.cut(data['mass'], 10)"
   ]
  },
  {
   "cell_type": "markdown",
   "metadata": {},
   "source": [
    "Let's see the new `mass_group` column using head again.\n",
    "\n",
    "```\n",
    "data.head()\n",
    "```"
   ]
  },
  {
   "cell_type": "code",
   "execution_count": 25,
   "metadata": {},
   "outputs": [
    {
     "data": {
      "text/html": [
       "<div>\n",
       "<style scoped>\n",
       "    .dataframe tbody tr th:only-of-type {\n",
       "        vertical-align: middle;\n",
       "    }\n",
       "\n",
       "    .dataframe tbody tr th {\n",
       "        vertical-align: top;\n",
       "    }\n",
       "\n",
       "    .dataframe thead th {\n",
       "        text-align: right;\n",
       "    }\n",
       "</style>\n",
       "<table border=\"1\" class=\"dataframe\">\n",
       "  <thead>\n",
       "    <tr style=\"text-align: right;\">\n",
       "      <th></th>\n",
       "      <th>SMILES_str</th>\n",
       "      <th>stoich_str</th>\n",
       "      <th>mass</th>\n",
       "      <th>pce</th>\n",
       "      <th>voc</th>\n",
       "      <th>jsc</th>\n",
       "      <th>e_homo_alpha</th>\n",
       "      <th>e_gap_alpha</th>\n",
       "      <th>e_lumo_alpha</th>\n",
       "      <th>tmp_smiles_str</th>\n",
       "      <th>mass_ratio_H2O</th>\n",
       "      <th>mass_group</th>\n",
       "    </tr>\n",
       "    <tr>\n",
       "      <th>id</th>\n",
       "      <th></th>\n",
       "      <th></th>\n",
       "      <th></th>\n",
       "      <th></th>\n",
       "      <th></th>\n",
       "      <th></th>\n",
       "      <th></th>\n",
       "      <th></th>\n",
       "      <th></th>\n",
       "      <th></th>\n",
       "      <th></th>\n",
       "      <th></th>\n",
       "    </tr>\n",
       "  </thead>\n",
       "  <tbody>\n",
       "    <tr>\n",
       "      <th>655365</th>\n",
       "      <td>C1C=CC=C1c1cc2[se]c3c4occc4c4nsnc4c3c2cn1</td>\n",
       "      <td>C18H9N3OSSe</td>\n",
       "      <td>394.3151</td>\n",
       "      <td>5.161953</td>\n",
       "      <td>0.867601</td>\n",
       "      <td>91.567575</td>\n",
       "      <td>-5.467601</td>\n",
       "      <td>2.022944</td>\n",
       "      <td>-3.444656</td>\n",
       "      <td>C1=CC=C(C1)c1cc2[se]c3c4occc4c4nsnc4c3c2cn1</td>\n",
       "      <td>21.887814</td>\n",
       "      <td>(375.486, 427.298]</td>\n",
       "    </tr>\n",
       "    <tr>\n",
       "      <th>1245190</th>\n",
       "      <td>C1C=CC=C1c1cc2[se]c3c(ncc4ccccc34)c2c2=C[SiH2]...</td>\n",
       "      <td>C22H15NSeSi</td>\n",
       "      <td>400.4135</td>\n",
       "      <td>5.261398</td>\n",
       "      <td>0.504824</td>\n",
       "      <td>160.401549</td>\n",
       "      <td>-5.104824</td>\n",
       "      <td>1.630750</td>\n",
       "      <td>-3.474074</td>\n",
       "      <td>C1=CC=C(C1)c1cc2[se]c3c(ncc4ccccc34)c2c2=C[SiH...</td>\n",
       "      <td>22.226327</td>\n",
       "      <td>(375.486, 427.298]</td>\n",
       "    </tr>\n",
       "    <tr>\n",
       "      <th>21847</th>\n",
       "      <td>C1C=c2ccc3c4c[nH]cc4c4c5[SiH2]C(=Cc5oc4c3c2=C1...</td>\n",
       "      <td>C24H17NOSi</td>\n",
       "      <td>363.4903</td>\n",
       "      <td>0.000000</td>\n",
       "      <td>0.000000</td>\n",
       "      <td>197.474780</td>\n",
       "      <td>-4.539526</td>\n",
       "      <td>1.462158</td>\n",
       "      <td>-3.077368</td>\n",
       "      <td>C1=CC=C(C1)C1=Cc2oc3c(c2[SiH2]1)c1c[nH]cc1c1cc...</td>\n",
       "      <td>20.176778</td>\n",
       "      <td>(323.674, 375.486]</td>\n",
       "    </tr>\n",
       "    <tr>\n",
       "      <th>65553</th>\n",
       "      <td>[SiH2]1C=CC2=C1C=C([SiH2]2)C1=Cc2[se]ccc2[SiH2]1</td>\n",
       "      <td>C12H12SeSi3</td>\n",
       "      <td>319.4448</td>\n",
       "      <td>6.138294</td>\n",
       "      <td>0.630274</td>\n",
       "      <td>149.887545</td>\n",
       "      <td>-5.230274</td>\n",
       "      <td>1.682250</td>\n",
       "      <td>-3.548025</td>\n",
       "      <td>C1=CC2=C([SiH2]1)C=C([SiH2]2)C1=Cc2[se]ccc2[Si...</td>\n",
       "      <td>17.731881</td>\n",
       "      <td>(271.862, 323.674]</td>\n",
       "    </tr>\n",
       "    <tr>\n",
       "      <th>720918</th>\n",
       "      <td>C1C=c2c3ccsc3c3[se]c4cc(oc4c3c2=C1)C1=CC=CC1</td>\n",
       "      <td>C20H12OSSe</td>\n",
       "      <td>379.3398</td>\n",
       "      <td>1.991366</td>\n",
       "      <td>0.242119</td>\n",
       "      <td>126.581347</td>\n",
       "      <td>-4.842119</td>\n",
       "      <td>1.809439</td>\n",
       "      <td>-3.032680</td>\n",
       "      <td>C1=CC=C(C1)c1cc2[se]c3c4sccc4c4=CCC=c4c3c2o1</td>\n",
       "      <td>21.056559</td>\n",
       "      <td>(375.486, 427.298]</td>\n",
       "    </tr>\n",
       "  </tbody>\n",
       "</table>\n",
       "</div>"
      ],
      "text/plain": [
       "                                                SMILES_str   stoich_str  \\\n",
       "id                                                                        \n",
       "655365           C1C=CC=C1c1cc2[se]c3c4occc4c4nsnc4c3c2cn1  C18H9N3OSSe   \n",
       "1245190  C1C=CC=C1c1cc2[se]c3c(ncc4ccccc34)c2c2=C[SiH2]...  C22H15NSeSi   \n",
       "21847    C1C=c2ccc3c4c[nH]cc4c4c5[SiH2]C(=Cc5oc4c3c2=C1...   C24H17NOSi   \n",
       "65553     [SiH2]1C=CC2=C1C=C([SiH2]2)C1=Cc2[se]ccc2[SiH2]1  C12H12SeSi3   \n",
       "720918        C1C=c2c3ccsc3c3[se]c4cc(oc4c3c2=C1)C1=CC=CC1   C20H12OSSe   \n",
       "\n",
       "             mass       pce       voc         jsc  e_homo_alpha  e_gap_alpha  \\\n",
       "id                                                                             \n",
       "655365   394.3151  5.161953  0.867601   91.567575     -5.467601     2.022944   \n",
       "1245190  400.4135  5.261398  0.504824  160.401549     -5.104824     1.630750   \n",
       "21847    363.4903  0.000000  0.000000  197.474780     -4.539526     1.462158   \n",
       "65553    319.4448  6.138294  0.630274  149.887545     -5.230274     1.682250   \n",
       "720918   379.3398  1.991366  0.242119  126.581347     -4.842119     1.809439   \n",
       "\n",
       "         e_lumo_alpha                                     tmp_smiles_str  \\\n",
       "id                                                                         \n",
       "655365      -3.444656        C1=CC=C(C1)c1cc2[se]c3c4occc4c4nsnc4c3c2cn1   \n",
       "1245190     -3.474074  C1=CC=C(C1)c1cc2[se]c3c(ncc4ccccc34)c2c2=C[SiH...   \n",
       "21847       -3.077368  C1=CC=C(C1)C1=Cc2oc3c(c2[SiH2]1)c1c[nH]cc1c1cc...   \n",
       "65553       -3.548025  C1=CC2=C([SiH2]1)C=C([SiH2]2)C1=Cc2[se]ccc2[Si...   \n",
       "720918      -3.032680       C1=CC=C(C1)c1cc2[se]c3c4sccc4c4=CCC=c4c3c2o1   \n",
       "\n",
       "         mass_ratio_H2O          mass_group  \n",
       "id                                           \n",
       "655365        21.887814  (375.486, 427.298]  \n",
       "1245190       22.226327  (375.486, 427.298]  \n",
       "21847         20.176778  (323.674, 375.486]  \n",
       "65553         17.731881  (271.862, 323.674]  \n",
       "720918        21.056559  (375.486, 427.298]  "
      ]
     },
     "execution_count": 25,
     "metadata": {},
     "output_type": "execute_result"
    }
   ],
   "source": [
    "data.head()"
   ]
  },
  {
   "cell_type": "markdown",
   "metadata": {},
   "source": [
    "What are the data types of the new columns we have created?\n",
    "\n",
    "```\n",
    "data.dtypes\n",
    "```"
   ]
  },
  {
   "cell_type": "code",
   "execution_count": 26,
   "metadata": {},
   "outputs": [
    {
     "data": {
      "text/plain": [
       "SMILES_str          object\n",
       "stoich_str          object\n",
       "mass               float64\n",
       "pce                float64\n",
       "voc                float64\n",
       "jsc                float64\n",
       "e_homo_alpha       float64\n",
       "e_gap_alpha        float64\n",
       "e_lumo_alpha       float64\n",
       "tmp_smiles_str      object\n",
       "mass_ratio_H2O     float64\n",
       "mass_group        category\n",
       "dtype: object"
      ]
     },
     "execution_count": 26,
     "metadata": {},
     "output_type": "execute_result"
    }
   ],
   "source": [
    "data.dtypes"
   ]
  },
  {
   "cell_type": "markdown",
   "metadata": {},
   "source": [
    "### 2.1 Simple Grouping of Data\n",
    "\n",
    "The real power of Pandas comes in its tools for grouping and aggregating data. Here we'll look at *value counts* and the basics of *group-by* operations."
   ]
  },
  {
   "cell_type": "markdown",
   "metadata": {},
   "source": [
    "#### Value Counts"
   ]
  },
  {
   "cell_type": "markdown",
   "metadata": {},
   "source": [
    "Pandas includes an array of useful functionality for manipulating and analyzing tabular data.\n",
    "We'll take a look at two of these here."
   ]
  },
  {
   "cell_type": "markdown",
   "metadata": {},
   "source": [
    "The ``pandas.value_counts`` returns statistics on the unique values within each column.\n",
    "\n",
    "We can use it, for example, to break down the molecules by their mass group that we just created:"
   ]
  },
  {
   "cell_type": "markdown",
   "metadata": {},
   "source": [
    "```\n",
    "pd.value_counts(data['mass_group'])\n",
    "```"
   ]
  },
  {
   "cell_type": "code",
   "execution_count": 27,
   "metadata": {},
   "outputs": [
    {
     "name": "stderr",
     "output_type": "stream",
     "text": [
      "/tmp/ipykernel_22829/4028081873.py:1: FutureWarning: pandas.value_counts is deprecated and will be removed in a future version. Use pd.Series(obj).value_counts() instead.\n",
      "  pd.value_counts(data['mass_group'])\n"
     ]
    },
    {
     "data": {
      "text/plain": [
       "mass_group\n",
       "(375.486, 427.298]    749908\n",
       "(427.298, 479.111]    729369\n",
       "(323.674, 375.486]    395811\n",
       "(479.111, 530.923]    247833\n",
       "(271.862, 323.674]    132159\n",
       "(530.923, 582.735]     41111\n",
       "(220.05, 271.862]      21253\n",
       "(582.735, 634.547]      4176\n",
       "(167.72, 220.05]         937\n",
       "(634.547, 686.359]       292\n",
       "Name: count, dtype: int64"
      ]
     },
     "execution_count": 27,
     "metadata": {},
     "output_type": "execute_result"
    }
   ],
   "source": [
    "pd.value_counts(data['mass_group'])"
   ]
  },
  {
   "cell_type": "markdown",
   "metadata": {},
   "source": [
    "What happens if we try this on a continuous valued variable?"
   ]
  },
  {
   "cell_type": "markdown",
   "metadata": {},
   "source": [
    "```\n",
    "pd.value_counts(data['mass'])\n",
    "```"
   ]
  },
  {
   "cell_type": "code",
   "execution_count": 28,
   "metadata": {},
   "outputs": [
    {
     "name": "stderr",
     "output_type": "stream",
     "text": [
      "/tmp/ipykernel_22829/1956101213.py:1: FutureWarning: pandas.value_counts is deprecated and will be removed in a future version. Use pd.Series(obj).value_counts() instead.\n",
      "  pd.value_counts(data['mass'])\n"
     ]
    },
    {
     "data": {
      "text/plain": [
       "mass\n",
       "390.4646    4420\n",
       "378.4536    4214\n",
       "393.5405    3844\n",
       "396.4928    3834\n",
       "404.5674    3750\n",
       "            ... \n",
       "290.4402       1\n",
       "227.3297       1\n",
       "276.4014       1\n",
       "279.2541       1\n",
       "270.5866       1\n",
       "Name: count, Length: 10394, dtype: int64"
      ]
     },
     "execution_count": 28,
     "metadata": {},
     "output_type": "execute_result"
    }
   ],
   "source": [
    "pd.value_counts(data['mass'])"
   ]
  },
  {
   "cell_type": "markdown",
   "metadata": {},
   "source": [
    "We can do a little data exploration with this to look 0s in columns.  Here, let's look at the power conversion effeciency (``pce``)"
   ]
  },
  {
   "cell_type": "markdown",
   "metadata": {},
   "source": [
    "```\n",
    "pd.value_counts(data['pce'])\n",
    "```"
   ]
  },
  {
   "cell_type": "code",
   "execution_count": 29,
   "metadata": {},
   "outputs": [
    {
     "name": "stderr",
     "output_type": "stream",
     "text": [
      "/tmp/ipykernel_22829/1562702781.py:1: FutureWarning: pandas.value_counts is deprecated and will be removed in a future version. Use pd.Series(obj).value_counts() instead.\n",
      "  pd.value_counts(data['pce'])\n"
     ]
    },
    {
     "data": {
      "text/plain": [
       "pce\n",
       "0.000000    109854\n",
       "1.334476         6\n",
       "1.722346         4\n",
       "0.628606         4\n",
       "3.533531         4\n",
       "             ...  \n",
       "3.093480         1\n",
       "0.152224         1\n",
       "1.646125         1\n",
       "3.108040         1\n",
       "1.966592         1\n",
       "Name: count, Length: 2194327, dtype: int64"
      ]
     },
     "execution_count": 29,
     "metadata": {},
     "output_type": "execute_result"
    }
   ],
   "source": [
    "pd.value_counts(data['pce'])"
   ]
  },
  {
   "cell_type": "markdown",
   "metadata": {},
   "source": [
    "### 2.1.1. The Group-by Operation\n",
    "\n",
    "One of the killer features of the Pandas dataframe is the ability to do group-by operations.\n",
    "You can visualize the group-by like this (image utilized from the Python Data Science Handbook).\n",
    "\n",
    "![image](https://github.com/UWDIRECT/UWDIRECT.github.io/raw/master/Wi21_content/SEDS/split_apply_combine.png)"
   ]
  },
  {
   "cell_type": "markdown",
   "metadata": {},
   "source": [
    "Let's break take this in smaller steps.\n",
    "Recall our ``mass_group`` column.\n",
    "\n",
    "```\n",
    "pd.value_counts(data['mass_group'])\n",
    "```"
   ]
  },
  {
   "cell_type": "code",
   "execution_count": 30,
   "metadata": {},
   "outputs": [
    {
     "name": "stderr",
     "output_type": "stream",
     "text": [
      "/tmp/ipykernel_22829/4028081873.py:1: FutureWarning: pandas.value_counts is deprecated and will be removed in a future version. Use pd.Series(obj).value_counts() instead.\n",
      "  pd.value_counts(data['mass_group'])\n"
     ]
    },
    {
     "data": {
      "text/plain": [
       "mass_group\n",
       "(375.486, 427.298]    749908\n",
       "(427.298, 479.111]    729369\n",
       "(323.674, 375.486]    395811\n",
       "(479.111, 530.923]    247833\n",
       "(271.862, 323.674]    132159\n",
       "(530.923, 582.735]     41111\n",
       "(220.05, 271.862]      21253\n",
       "(582.735, 634.547]      4176\n",
       "(167.72, 220.05]         937\n",
       "(634.547, 686.359]       292\n",
       "Name: count, dtype: int64"
      ]
     },
     "execution_count": 30,
     "metadata": {},
     "output_type": "execute_result"
    }
   ],
   "source": [
    "pd.value_counts(data['mass_group'])"
   ]
  },
  {
   "cell_type": "markdown",
   "metadata": {},
   "source": [
    "The `groupby` allows us to look at the number of values for each column and each value."
   ]
  },
  {
   "cell_type": "markdown",
   "metadata": {},
   "source": [
    "```\n",
    "data.groupby(['mass_group']).count()\n",
    "```"
   ]
  },
  {
   "cell_type": "code",
   "execution_count": 31,
   "metadata": {},
   "outputs": [
    {
     "name": "stderr",
     "output_type": "stream",
     "text": [
      "/tmp/ipykernel_22829/349244610.py:1: FutureWarning: The default of observed=False is deprecated and will be changed to True in a future version of pandas. Pass observed=False to retain current behavior or observed=True to adopt the future default and silence this warning.\n",
      "  data.groupby(['mass_group']).count()\n"
     ]
    },
    {
     "data": {
      "text/html": [
       "<div>\n",
       "<style scoped>\n",
       "    .dataframe tbody tr th:only-of-type {\n",
       "        vertical-align: middle;\n",
       "    }\n",
       "\n",
       "    .dataframe tbody tr th {\n",
       "        vertical-align: top;\n",
       "    }\n",
       "\n",
       "    .dataframe thead th {\n",
       "        text-align: right;\n",
       "    }\n",
       "</style>\n",
       "<table border=\"1\" class=\"dataframe\">\n",
       "  <thead>\n",
       "    <tr style=\"text-align: right;\">\n",
       "      <th></th>\n",
       "      <th>SMILES_str</th>\n",
       "      <th>stoich_str</th>\n",
       "      <th>mass</th>\n",
       "      <th>pce</th>\n",
       "      <th>voc</th>\n",
       "      <th>jsc</th>\n",
       "      <th>e_homo_alpha</th>\n",
       "      <th>e_gap_alpha</th>\n",
       "      <th>e_lumo_alpha</th>\n",
       "      <th>tmp_smiles_str</th>\n",
       "      <th>mass_ratio_H2O</th>\n",
       "    </tr>\n",
       "    <tr>\n",
       "      <th>mass_group</th>\n",
       "      <th></th>\n",
       "      <th></th>\n",
       "      <th></th>\n",
       "      <th></th>\n",
       "      <th></th>\n",
       "      <th></th>\n",
       "      <th></th>\n",
       "      <th></th>\n",
       "      <th></th>\n",
       "      <th></th>\n",
       "      <th></th>\n",
       "    </tr>\n",
       "  </thead>\n",
       "  <tbody>\n",
       "    <tr>\n",
       "      <th>(167.72, 220.05]</th>\n",
       "      <td>937</td>\n",
       "      <td>937</td>\n",
       "      <td>937</td>\n",
       "      <td>937</td>\n",
       "      <td>937</td>\n",
       "      <td>937</td>\n",
       "      <td>937</td>\n",
       "      <td>937</td>\n",
       "      <td>937</td>\n",
       "      <td>844</td>\n",
       "      <td>937</td>\n",
       "    </tr>\n",
       "    <tr>\n",
       "      <th>(220.05, 271.862]</th>\n",
       "      <td>21253</td>\n",
       "      <td>21253</td>\n",
       "      <td>21253</td>\n",
       "      <td>21253</td>\n",
       "      <td>21253</td>\n",
       "      <td>21253</td>\n",
       "      <td>21253</td>\n",
       "      <td>21253</td>\n",
       "      <td>21253</td>\n",
       "      <td>20080</td>\n",
       "      <td>21253</td>\n",
       "    </tr>\n",
       "    <tr>\n",
       "      <th>(271.862, 323.674]</th>\n",
       "      <td>132159</td>\n",
       "      <td>132159</td>\n",
       "      <td>132159</td>\n",
       "      <td>132159</td>\n",
       "      <td>132159</td>\n",
       "      <td>132159</td>\n",
       "      <td>132159</td>\n",
       "      <td>132159</td>\n",
       "      <td>132159</td>\n",
       "      <td>124329</td>\n",
       "      <td>132159</td>\n",
       "    </tr>\n",
       "    <tr>\n",
       "      <th>(323.674, 375.486]</th>\n",
       "      <td>395811</td>\n",
       "      <td>395811</td>\n",
       "      <td>395811</td>\n",
       "      <td>395811</td>\n",
       "      <td>395811</td>\n",
       "      <td>395811</td>\n",
       "      <td>395811</td>\n",
       "      <td>395811</td>\n",
       "      <td>395811</td>\n",
       "      <td>373490</td>\n",
       "      <td>395811</td>\n",
       "    </tr>\n",
       "    <tr>\n",
       "      <th>(375.486, 427.298]</th>\n",
       "      <td>749908</td>\n",
       "      <td>749908</td>\n",
       "      <td>749908</td>\n",
       "      <td>749908</td>\n",
       "      <td>749908</td>\n",
       "      <td>749908</td>\n",
       "      <td>749908</td>\n",
       "      <td>749908</td>\n",
       "      <td>749908</td>\n",
       "      <td>715158</td>\n",
       "      <td>749908</td>\n",
       "    </tr>\n",
       "    <tr>\n",
       "      <th>(427.298, 479.111]</th>\n",
       "      <td>729369</td>\n",
       "      <td>729369</td>\n",
       "      <td>729369</td>\n",
       "      <td>729369</td>\n",
       "      <td>729369</td>\n",
       "      <td>729369</td>\n",
       "      <td>729369</td>\n",
       "      <td>729369</td>\n",
       "      <td>729369</td>\n",
       "      <td>699620</td>\n",
       "      <td>729369</td>\n",
       "    </tr>\n",
       "    <tr>\n",
       "      <th>(479.111, 530.923]</th>\n",
       "      <td>247833</td>\n",
       "      <td>247833</td>\n",
       "      <td>247833</td>\n",
       "      <td>247833</td>\n",
       "      <td>247833</td>\n",
       "      <td>247833</td>\n",
       "      <td>247833</td>\n",
       "      <td>247833</td>\n",
       "      <td>247833</td>\n",
       "      <td>236177</td>\n",
       "      <td>247833</td>\n",
       "    </tr>\n",
       "    <tr>\n",
       "      <th>(530.923, 582.735]</th>\n",
       "      <td>41111</td>\n",
       "      <td>41111</td>\n",
       "      <td>41111</td>\n",
       "      <td>41111</td>\n",
       "      <td>41111</td>\n",
       "      <td>41111</td>\n",
       "      <td>41111</td>\n",
       "      <td>41111</td>\n",
       "      <td>41111</td>\n",
       "      <td>39588</td>\n",
       "      <td>41111</td>\n",
       "    </tr>\n",
       "    <tr>\n",
       "      <th>(582.735, 634.547]</th>\n",
       "      <td>4176</td>\n",
       "      <td>4176</td>\n",
       "      <td>4176</td>\n",
       "      <td>4176</td>\n",
       "      <td>4176</td>\n",
       "      <td>4176</td>\n",
       "      <td>4176</td>\n",
       "      <td>4176</td>\n",
       "      <td>4176</td>\n",
       "      <td>4093</td>\n",
       "      <td>4176</td>\n",
       "    </tr>\n",
       "    <tr>\n",
       "      <th>(634.547, 686.359]</th>\n",
       "      <td>292</td>\n",
       "      <td>292</td>\n",
       "      <td>292</td>\n",
       "      <td>292</td>\n",
       "      <td>292</td>\n",
       "      <td>292</td>\n",
       "      <td>292</td>\n",
       "      <td>292</td>\n",
       "      <td>292</td>\n",
       "      <td>291</td>\n",
       "      <td>292</td>\n",
       "    </tr>\n",
       "  </tbody>\n",
       "</table>\n",
       "</div>"
      ],
      "text/plain": [
       "                    SMILES_str  stoich_str    mass     pce     voc     jsc  \\\n",
       "mass_group                                                                   \n",
       "(167.72, 220.05]           937         937     937     937     937     937   \n",
       "(220.05, 271.862]        21253       21253   21253   21253   21253   21253   \n",
       "(271.862, 323.674]      132159      132159  132159  132159  132159  132159   \n",
       "(323.674, 375.486]      395811      395811  395811  395811  395811  395811   \n",
       "(375.486, 427.298]      749908      749908  749908  749908  749908  749908   \n",
       "(427.298, 479.111]      729369      729369  729369  729369  729369  729369   \n",
       "(479.111, 530.923]      247833      247833  247833  247833  247833  247833   \n",
       "(530.923, 582.735]       41111       41111   41111   41111   41111   41111   \n",
       "(582.735, 634.547]        4176        4176    4176    4176    4176    4176   \n",
       "(634.547, 686.359]         292         292     292     292     292     292   \n",
       "\n",
       "                    e_homo_alpha  e_gap_alpha  e_lumo_alpha  tmp_smiles_str  \\\n",
       "mass_group                                                                    \n",
       "(167.72, 220.05]             937          937           937             844   \n",
       "(220.05, 271.862]          21253        21253         21253           20080   \n",
       "(271.862, 323.674]        132159       132159        132159          124329   \n",
       "(323.674, 375.486]        395811       395811        395811          373490   \n",
       "(375.486, 427.298]        749908       749908        749908          715158   \n",
       "(427.298, 479.111]        729369       729369        729369          699620   \n",
       "(479.111, 530.923]        247833       247833        247833          236177   \n",
       "(530.923, 582.735]         41111        41111         41111           39588   \n",
       "(582.735, 634.547]          4176         4176          4176            4093   \n",
       "(634.547, 686.359]           292          292           292             291   \n",
       "\n",
       "                    mass_ratio_H2O  \n",
       "mass_group                          \n",
       "(167.72, 220.05]               937  \n",
       "(220.05, 271.862]            21253  \n",
       "(271.862, 323.674]          132159  \n",
       "(323.674, 375.486]          395811  \n",
       "(375.486, 427.298]          749908  \n",
       "(427.298, 479.111]          729369  \n",
       "(479.111, 530.923]          247833  \n",
       "(530.923, 582.735]           41111  \n",
       "(582.735, 634.547]            4176  \n",
       "(634.547, 686.359]             292  "
      ]
     },
     "execution_count": 31,
     "metadata": {},
     "output_type": "execute_result"
    }
   ],
   "source": [
    "data.groupby(['mass_group']).count()"
   ]
  },
  {
   "cell_type": "markdown",
   "metadata": {},
   "source": [
    "Now, let's find the mean of each of the columns for each ``mass_group``.  *Notice* what happens to the non-numeric columns."
   ]
  },
  {
   "cell_type": "markdown",
   "metadata": {},
   "source": [
    "```\n",
    "data.groupby(['mass_group']).mean()\n",
    "```"
   ]
  },
  {
   "cell_type": "code",
   "execution_count": 32,
   "metadata": {},
   "outputs": [
    {
     "name": "stderr",
     "output_type": "stream",
     "text": [
      "/tmp/ipykernel_22829/2518606101.py:1: FutureWarning: The default of observed=False is deprecated and will be changed to True in a future version of pandas. Pass observed=False to retain current behavior or observed=True to adopt the future default and silence this warning.\n",
      "  data.groupby(['mass_group']).mean()\n"
     ]
    },
    {
     "ename": "TypeError",
     "evalue": "agg function failed [how->mean,dtype->object]",
     "output_type": "error",
     "traceback": [
      "\u001b[0;31m---------------------------------------------------------------------------\u001b[0m",
      "\u001b[0;31mTypeError\u001b[0m                                 Traceback (most recent call last)",
      "File \u001b[0;32m~/miniconda3/lib/python3.12/site-packages/pandas/core/groupby/groupby.py:1942\u001b[0m, in \u001b[0;36mGroupBy._agg_py_fallback\u001b[0;34m(self, how, values, ndim, alt)\u001b[0m\n\u001b[1;32m   1941\u001b[0m \u001b[38;5;28;01mtry\u001b[39;00m:\n\u001b[0;32m-> 1942\u001b[0m     res_values \u001b[38;5;241m=\u001b[39m \u001b[38;5;28mself\u001b[39m\u001b[38;5;241m.\u001b[39m_grouper\u001b[38;5;241m.\u001b[39magg_series(ser, alt, preserve_dtype\u001b[38;5;241m=\u001b[39m\u001b[38;5;28;01mTrue\u001b[39;00m)\n\u001b[1;32m   1943\u001b[0m \u001b[38;5;28;01mexcept\u001b[39;00m \u001b[38;5;167;01mException\u001b[39;00m \u001b[38;5;28;01mas\u001b[39;00m err:\n",
      "File \u001b[0;32m~/miniconda3/lib/python3.12/site-packages/pandas/core/groupby/ops.py:864\u001b[0m, in \u001b[0;36mBaseGrouper.agg_series\u001b[0;34m(self, obj, func, preserve_dtype)\u001b[0m\n\u001b[1;32m    862\u001b[0m     preserve_dtype \u001b[38;5;241m=\u001b[39m \u001b[38;5;28;01mTrue\u001b[39;00m\n\u001b[0;32m--> 864\u001b[0m result \u001b[38;5;241m=\u001b[39m \u001b[38;5;28mself\u001b[39m\u001b[38;5;241m.\u001b[39m_aggregate_series_pure_python(obj, func)\n\u001b[1;32m    866\u001b[0m npvalues \u001b[38;5;241m=\u001b[39m lib\u001b[38;5;241m.\u001b[39mmaybe_convert_objects(result, try_float\u001b[38;5;241m=\u001b[39m\u001b[38;5;28;01mFalse\u001b[39;00m)\n",
      "File \u001b[0;32m~/miniconda3/lib/python3.12/site-packages/pandas/core/groupby/ops.py:885\u001b[0m, in \u001b[0;36mBaseGrouper._aggregate_series_pure_python\u001b[0;34m(self, obj, func)\u001b[0m\n\u001b[1;32m    884\u001b[0m \u001b[38;5;28;01mfor\u001b[39;00m i, group \u001b[38;5;129;01min\u001b[39;00m \u001b[38;5;28menumerate\u001b[39m(splitter):\n\u001b[0;32m--> 885\u001b[0m     res \u001b[38;5;241m=\u001b[39m func(group)\n\u001b[1;32m    886\u001b[0m     res \u001b[38;5;241m=\u001b[39m extract_result(res)\n",
      "File \u001b[0;32m~/miniconda3/lib/python3.12/site-packages/pandas/core/groupby/groupby.py:2454\u001b[0m, in \u001b[0;36mGroupBy.mean.<locals>.<lambda>\u001b[0;34m(x)\u001b[0m\n\u001b[1;32m   2451\u001b[0m \u001b[38;5;28;01melse\u001b[39;00m:\n\u001b[1;32m   2452\u001b[0m     result \u001b[38;5;241m=\u001b[39m \u001b[38;5;28mself\u001b[39m\u001b[38;5;241m.\u001b[39m_cython_agg_general(\n\u001b[1;32m   2453\u001b[0m         \u001b[38;5;124m\"\u001b[39m\u001b[38;5;124mmean\u001b[39m\u001b[38;5;124m\"\u001b[39m,\n\u001b[0;32m-> 2454\u001b[0m         alt\u001b[38;5;241m=\u001b[39m\u001b[38;5;28;01mlambda\u001b[39;00m x: Series(x, copy\u001b[38;5;241m=\u001b[39m\u001b[38;5;28;01mFalse\u001b[39;00m)\u001b[38;5;241m.\u001b[39mmean(numeric_only\u001b[38;5;241m=\u001b[39mnumeric_only),\n\u001b[1;32m   2455\u001b[0m         numeric_only\u001b[38;5;241m=\u001b[39mnumeric_only,\n\u001b[1;32m   2456\u001b[0m     )\n\u001b[1;32m   2457\u001b[0m     \u001b[38;5;28;01mreturn\u001b[39;00m result\u001b[38;5;241m.\u001b[39m__finalize__(\u001b[38;5;28mself\u001b[39m\u001b[38;5;241m.\u001b[39mobj, method\u001b[38;5;241m=\u001b[39m\u001b[38;5;124m\"\u001b[39m\u001b[38;5;124mgroupby\u001b[39m\u001b[38;5;124m\"\u001b[39m)\n",
      "File \u001b[0;32m~/miniconda3/lib/python3.12/site-packages/pandas/core/series.py:6549\u001b[0m, in \u001b[0;36mSeries.mean\u001b[0;34m(self, axis, skipna, numeric_only, **kwargs)\u001b[0m\n\u001b[1;32m   6541\u001b[0m \u001b[38;5;129m@doc\u001b[39m(make_doc(\u001b[38;5;124m\"\u001b[39m\u001b[38;5;124mmean\u001b[39m\u001b[38;5;124m\"\u001b[39m, ndim\u001b[38;5;241m=\u001b[39m\u001b[38;5;241m1\u001b[39m))\n\u001b[1;32m   6542\u001b[0m \u001b[38;5;28;01mdef\u001b[39;00m \u001b[38;5;21mmean\u001b[39m(\n\u001b[1;32m   6543\u001b[0m     \u001b[38;5;28mself\u001b[39m,\n\u001b[0;32m   (...)\u001b[0m\n\u001b[1;32m   6547\u001b[0m     \u001b[38;5;241m*\u001b[39m\u001b[38;5;241m*\u001b[39mkwargs,\n\u001b[1;32m   6548\u001b[0m ):\n\u001b[0;32m-> 6549\u001b[0m     \u001b[38;5;28;01mreturn\u001b[39;00m NDFrame\u001b[38;5;241m.\u001b[39mmean(\u001b[38;5;28mself\u001b[39m, axis, skipna, numeric_only, \u001b[38;5;241m*\u001b[39m\u001b[38;5;241m*\u001b[39mkwargs)\n",
      "File \u001b[0;32m~/miniconda3/lib/python3.12/site-packages/pandas/core/generic.py:12420\u001b[0m, in \u001b[0;36mNDFrame.mean\u001b[0;34m(self, axis, skipna, numeric_only, **kwargs)\u001b[0m\n\u001b[1;32m  12413\u001b[0m \u001b[38;5;28;01mdef\u001b[39;00m \u001b[38;5;21mmean\u001b[39m(\n\u001b[1;32m  12414\u001b[0m     \u001b[38;5;28mself\u001b[39m,\n\u001b[1;32m  12415\u001b[0m     axis: Axis \u001b[38;5;241m|\u001b[39m \u001b[38;5;28;01mNone\u001b[39;00m \u001b[38;5;241m=\u001b[39m \u001b[38;5;241m0\u001b[39m,\n\u001b[0;32m   (...)\u001b[0m\n\u001b[1;32m  12418\u001b[0m     \u001b[38;5;241m*\u001b[39m\u001b[38;5;241m*\u001b[39mkwargs,\n\u001b[1;32m  12419\u001b[0m ) \u001b[38;5;241m-\u001b[39m\u001b[38;5;241m>\u001b[39m Series \u001b[38;5;241m|\u001b[39m \u001b[38;5;28mfloat\u001b[39m:\n\u001b[0;32m> 12420\u001b[0m     \u001b[38;5;28;01mreturn\u001b[39;00m \u001b[38;5;28mself\u001b[39m\u001b[38;5;241m.\u001b[39m_stat_function(\n\u001b[1;32m  12421\u001b[0m         \u001b[38;5;124m\"\u001b[39m\u001b[38;5;124mmean\u001b[39m\u001b[38;5;124m\"\u001b[39m, nanops\u001b[38;5;241m.\u001b[39mnanmean, axis, skipna, numeric_only, \u001b[38;5;241m*\u001b[39m\u001b[38;5;241m*\u001b[39mkwargs\n\u001b[1;32m  12422\u001b[0m     )\n",
      "File \u001b[0;32m~/miniconda3/lib/python3.12/site-packages/pandas/core/generic.py:12377\u001b[0m, in \u001b[0;36mNDFrame._stat_function\u001b[0;34m(self, name, func, axis, skipna, numeric_only, **kwargs)\u001b[0m\n\u001b[1;32m  12375\u001b[0m validate_bool_kwarg(skipna, \u001b[38;5;124m\"\u001b[39m\u001b[38;5;124mskipna\u001b[39m\u001b[38;5;124m\"\u001b[39m, none_allowed\u001b[38;5;241m=\u001b[39m\u001b[38;5;28;01mFalse\u001b[39;00m)\n\u001b[0;32m> 12377\u001b[0m \u001b[38;5;28;01mreturn\u001b[39;00m \u001b[38;5;28mself\u001b[39m\u001b[38;5;241m.\u001b[39m_reduce(\n\u001b[1;32m  12378\u001b[0m     func, name\u001b[38;5;241m=\u001b[39mname, axis\u001b[38;5;241m=\u001b[39maxis, skipna\u001b[38;5;241m=\u001b[39mskipna, numeric_only\u001b[38;5;241m=\u001b[39mnumeric_only\n\u001b[1;32m  12379\u001b[0m )\n",
      "File \u001b[0;32m~/miniconda3/lib/python3.12/site-packages/pandas/core/series.py:6457\u001b[0m, in \u001b[0;36mSeries._reduce\u001b[0;34m(self, op, name, axis, skipna, numeric_only, filter_type, **kwds)\u001b[0m\n\u001b[1;32m   6453\u001b[0m     \u001b[38;5;28;01mraise\u001b[39;00m \u001b[38;5;167;01mTypeError\u001b[39;00m(\n\u001b[1;32m   6454\u001b[0m         \u001b[38;5;124mf\u001b[39m\u001b[38;5;124m\"\u001b[39m\u001b[38;5;124mSeries.\u001b[39m\u001b[38;5;132;01m{\u001b[39;00mname\u001b[38;5;132;01m}\u001b[39;00m\u001b[38;5;124m does not allow \u001b[39m\u001b[38;5;132;01m{\u001b[39;00mkwd_name\u001b[38;5;132;01m}\u001b[39;00m\u001b[38;5;124m=\u001b[39m\u001b[38;5;132;01m{\u001b[39;00mnumeric_only\u001b[38;5;132;01m}\u001b[39;00m\u001b[38;5;124m \u001b[39m\u001b[38;5;124m\"\u001b[39m\n\u001b[1;32m   6455\u001b[0m         \u001b[38;5;124m\"\u001b[39m\u001b[38;5;124mwith non-numeric dtypes.\u001b[39m\u001b[38;5;124m\"\u001b[39m\n\u001b[1;32m   6456\u001b[0m     )\n\u001b[0;32m-> 6457\u001b[0m \u001b[38;5;28;01mreturn\u001b[39;00m op(delegate, skipna\u001b[38;5;241m=\u001b[39mskipna, \u001b[38;5;241m*\u001b[39m\u001b[38;5;241m*\u001b[39mkwds)\n",
      "File \u001b[0;32m~/miniconda3/lib/python3.12/site-packages/pandas/core/nanops.py:147\u001b[0m, in \u001b[0;36mbottleneck_switch.__call__.<locals>.f\u001b[0;34m(values, axis, skipna, **kwds)\u001b[0m\n\u001b[1;32m    146\u001b[0m \u001b[38;5;28;01melse\u001b[39;00m:\n\u001b[0;32m--> 147\u001b[0m     result \u001b[38;5;241m=\u001b[39m alt(values, axis\u001b[38;5;241m=\u001b[39maxis, skipna\u001b[38;5;241m=\u001b[39mskipna, \u001b[38;5;241m*\u001b[39m\u001b[38;5;241m*\u001b[39mkwds)\n\u001b[1;32m    149\u001b[0m \u001b[38;5;28;01mreturn\u001b[39;00m result\n",
      "File \u001b[0;32m~/miniconda3/lib/python3.12/site-packages/pandas/core/nanops.py:404\u001b[0m, in \u001b[0;36m_datetimelike_compat.<locals>.new_func\u001b[0;34m(values, axis, skipna, mask, **kwargs)\u001b[0m\n\u001b[1;32m    402\u001b[0m     mask \u001b[38;5;241m=\u001b[39m isna(values)\n\u001b[0;32m--> 404\u001b[0m result \u001b[38;5;241m=\u001b[39m func(values, axis\u001b[38;5;241m=\u001b[39maxis, skipna\u001b[38;5;241m=\u001b[39mskipna, mask\u001b[38;5;241m=\u001b[39mmask, \u001b[38;5;241m*\u001b[39m\u001b[38;5;241m*\u001b[39mkwargs)\n\u001b[1;32m    406\u001b[0m \u001b[38;5;28;01mif\u001b[39;00m datetimelike:\n",
      "File \u001b[0;32m~/miniconda3/lib/python3.12/site-packages/pandas/core/nanops.py:720\u001b[0m, in \u001b[0;36mnanmean\u001b[0;34m(values, axis, skipna, mask)\u001b[0m\n\u001b[1;32m    719\u001b[0m the_sum \u001b[38;5;241m=\u001b[39m values\u001b[38;5;241m.\u001b[39msum(axis, dtype\u001b[38;5;241m=\u001b[39mdtype_sum)\n\u001b[0;32m--> 720\u001b[0m the_sum \u001b[38;5;241m=\u001b[39m _ensure_numeric(the_sum)\n\u001b[1;32m    722\u001b[0m \u001b[38;5;28;01mif\u001b[39;00m axis \u001b[38;5;129;01mis\u001b[39;00m \u001b[38;5;129;01mnot\u001b[39;00m \u001b[38;5;28;01mNone\u001b[39;00m \u001b[38;5;129;01mand\u001b[39;00m \u001b[38;5;28mgetattr\u001b[39m(the_sum, \u001b[38;5;124m\"\u001b[39m\u001b[38;5;124mndim\u001b[39m\u001b[38;5;124m\"\u001b[39m, \u001b[38;5;28;01mFalse\u001b[39;00m):\n",
      "File \u001b[0;32m~/miniconda3/lib/python3.12/site-packages/pandas/core/nanops.py:1701\u001b[0m, in \u001b[0;36m_ensure_numeric\u001b[0;34m(x)\u001b[0m\n\u001b[1;32m   1699\u001b[0m \u001b[38;5;28;01mif\u001b[39;00m \u001b[38;5;28misinstance\u001b[39m(x, \u001b[38;5;28mstr\u001b[39m):\n\u001b[1;32m   1700\u001b[0m     \u001b[38;5;66;03m# GH#44008, GH#36703 avoid casting e.g. strings to numeric\u001b[39;00m\n\u001b[0;32m-> 1701\u001b[0m     \u001b[38;5;28;01mraise\u001b[39;00m \u001b[38;5;167;01mTypeError\u001b[39;00m(\u001b[38;5;124mf\u001b[39m\u001b[38;5;124m\"\u001b[39m\u001b[38;5;124mCould not convert string \u001b[39m\u001b[38;5;124m'\u001b[39m\u001b[38;5;132;01m{\u001b[39;00mx\u001b[38;5;132;01m}\u001b[39;00m\u001b[38;5;124m'\u001b[39m\u001b[38;5;124m to numeric\u001b[39m\u001b[38;5;124m\"\u001b[39m)\n\u001b[1;32m   1702\u001b[0m \u001b[38;5;28;01mtry\u001b[39;00m:\n",
      "\u001b[0;31mTypeError\u001b[0m: Could not convert string 'C1C=CC2=C1C=C([SiH2]2)c1cncs1[SiH2]1C=CC2=C1C=C([SiH2]2)c1cccs1C1C=CC=C1C1=Cc2ccccc2C1C1C2=C([SiH2]C=C2)C=C1c1cccnc1C1C=CC2=C1C=C([SiH2]2)c1ccco1C1C2=C([SiH2]C=C2)C=C1c1ncncn1C1C=CC2=C1C=C(C2)c1cc2CC=Cc2cn1[SiH2]1C=CC2=C1C=C([SiH2]2)c1ccccc1[SiH2]1C=CC2=C1C=C([SiH2]2)c1ccccn1C1C=CC2=C1C=C([SiH2]2)c1ccccn1C1C=CC=C1C1=Cc2occc2C1C1C(=CC2=C1C=C[SiH2]2)c1nccs1C1C(=CC2=C1C=C[SiH2]2)c1ccco1C1C=CC2=C1C=C(C2)C1=Cc2ncccc2C1C1C=CC2=C1C=C(C2)c1ccco1C1C=CC2=C1C=C(C2)C1=CC2=C(C1)C=CC2C1C=CC2=C1C=C(C2)c1nccs1C1C=CC=C1C1=Cc2cnccc2C1C1C=CC=C1c1cc2CC=Cc2c2c[nH]cc12[SiH2]1C=CC2=C1C=C([SiH2]2)c1cccnc1C1C=CC=C1C1=Cc2sccc2C1C1C=CC2=C1C=C(C2)c1ccccn1C1C=CC=C1c1cc2[SiH2]C=Cc2o1C1C=CC=C1C1=Cc2ccccc2[SiH2]1C1C=CC2=C1C=C([SiH2]2)c1cccnc1C1C2=C([SiH2]C=C2)C=C1c1ccccc1C1C=CC2=C1C=C(C2)c1ccccc1C1C=CC=C1C1=Cc2ncccc2C1C1C=CC2=C1C=C(C2)C1=Cc2ccccc2C1C1C2=C([SiH2]C=C2)C=C1c1ccccn1[SiH2]1C=CC2=C1C=C([SiH2]2)c1nccs1C1C=CC2=C1C=C([SiH2]2)c1nccs1C1C=CC=C1C1=Cc2occc2[SiH2]1C1C=CC=C1C1=Cc2ncccc2[SiH2]1[SiH2]1C=CC2=C1C=C([SiH2]2)c1ccco1C1C=CC=C1C1=Cc2cnc3C=CCc3c2C1C1C(=CC2=C1C=C[SiH2]2)c1cncs1C1C=c2ccc3CC(=Cc3c2=C1)C1=CC=CC1C1C=CC=C1C1=CC2=C(C1)C=C[SiH2]2C1C=CC2=C1C=C(C2)C1=Cc2cnccc2C1C1C=CC=C1c1cc2[SiH2]C=Cc2s1C1C=CC=C1C1=Cc2ccc3C=CCc3c2C1C1C=CC=C1C1=CC2=C([SiH2]1)C=C[SiH2]2C1C=CC=C1c1cc2CC=Cc2o1C1C=CC=C1C1=CC2=C(C1)C=CC2C1C=CC2=C1C=C(C2)c1cccs1C1C=CC2=C1C=C([SiH2]2)C1=CC=C[SiH2]1C1C=CC2=C1C=C(C2)c1ccc2C=CCc2c1C1C=CC2=C1C=C(C2)c1cncs1C1C=CC=C1C1=Cc2oc3ccoc3c2C1[SiH2]1C=CC2=C1C=C([SiH2]2)c1cncs1[SiH2]1C=CC2=C1C=C([SiH2]2)c1ncncn1C1C=CC2=C1C=C(C2)c1cccnc1C1C=CC=C1C1=Cc2ncc3C=CCc3c2C1C1C=CC2=C1C=C(C2)c1cc2CC=Cc2o1C1C=c2c3C=CCc3cc(C3=CC=CC3)c2=C1C1C=CC=C1C1=Cc2sccc2[SiH2]1C1C=CC=C1C1=Cc2cc3CC=Cc3cc2C1C1C=CC2=C1C=C(C2)C1=Cc2occc2C1C1C(=CC2=C1C=C[SiH2]2)c1cccs1C1C=CC2=C1C=C([SiH2]2)c1ccccc1C1C=CC2=C1C=C(C2)C1=CC=C[SiH2]1C1C=CC=C1C1=Cc2oc3C=CCc3c2C1C1C=CC2=C1C=C(C2)c1ncncn1C1C=CC2=C1C=C(C2)c1cc2occc2o1C1C=CC=C1c1cc2CC=Cc2s1C1C=CC2=C1C=C([SiH2]2)c1cccs1C1C=CC=C1c1cc2CC=Cc2cn1C1C=CC=C1C1=CC2=C([SiH2]1)C=CC2C1C=CC2=C1C=C([SiH2]2)c1ncncn1C1C=CC2=C1C=C(C2)c1cccc2c[nH]cc12C1C=CC=C1C1=Cc2cnccc2[SiH2]1C1C=c2cccc(C3=CC4=C(C3)C=CC4)c2=C1C1C=CC2=C1C=C(C2)c1cnc2C=CCc2c1C1C=CC=C1c1cc2[SiH2]C=Cc2cn1C1C=CC=C1C1=Cc2c(C1)ccc1c[nH]cc21C1C=CC=C1c1cc2cnccc2o1C1C=CC=C1c1cc2oc3C=CCc3c2o1C1C=CC=C1c1cc2ccccc2o1C1C=CC=C1c1cc2occc2cn1C1C=CC=C1c1cc2oc3ccoc3c2o1C1C=CC=C1c1cc2occc2o1C1C=CC=C1c1cc2cnccc2cn1C1C=CC=C1c1cc2ccccc2s1C1C=CC=C1c1cc2cnccc2s1C1C=CC=C1c1cc2occc2s1C1C=CC=C1c1cc2ncccc2s1C1C=CC=C1c1cc2ccccc2cn1C1C=CC=C1c1cc2ncccc2cn1C1C=CC=C1c1cc2ncccc2o1C1C=CC=C1c1cnc2C=C[SiH2]c2c1C1C=CC=C1c1ccc2cccnc2c1C1C=CC=C1c1cnc2ccoc2c1C1C=CC=C1c1cnc2ccccc2c1C1C=CC=C1c1cnc2ccsc2c1C1C=CC=C1c1ccc2C=CCc2c1C1C=CC=C1c1cc2sccc2o1[SiH2]1C=CC=C1C1=CC2=C([SiH2]1)C=C[SiH2]2C1C=CC=C1c1ccc2C=C[SiH2]c2c1C1C=CC=C1c1cc2sccc2cn1C1C=CC=C1c1ccc2ccccc2c1C1C=CC=C1c1cnc2cccnc2c1C1C=CC=C1c1ccc2ccncc2c1C1C=CC=C1c1cc2sccc2s1C1C(=CC2=C1C=C[SiH2]2)C1=CC=C[SiH2]1C1C=CC=C1c1ccc2ccsc2c1C1C=CC=C1c1cnc2ccncc2c1C1C=CC=C1c1ccc2ccoc2c1C1C=CC=C1c1cnc2C=CCc2c1C1C(=Cc2occc12)C1=CC=C[SiH2]1[SiH2]1C=CC=C1c1cc2[SiH2]C=Cc2o1[SiH2]1C=CC=C1C1=Cc2sccc2[SiH2]1C1C(=Cc2sccc12)C1=CC=C[SiH2]1[SiH2]1C=CC=C1C1=Cc2occc2[SiH2]1[SiH2]1C=CC=C1c1cc2[SiH2]C=Cc2cn1C1C(=Cc2cnccc12)C1=CC=C[SiH2]1C1C(=Cc2ncccc12)C1=CC=C[SiH2]1[SiH2]1C=CC=C1C1=Cc2cnccc2[SiH2]1[SiH2]1C=CC=C1C1=Cc2ccccc2[SiH2]1[SiH2]1C=CC=C1c1cc2[SiH2]C=Cc2s1[SiH2]1C=CC=C1C1=Cc2ncccc2[SiH2]1C1C(=Cc2ccccc12)C1=CC=C[SiH2]1[SiH2]1C=CC=C1c1cc2ccccc2cn1[SiH2]1C=CC=C1c1cc2cnccc2s1[SiH2]1C=CC=C1c1cc2ccccc2s1[SiH2]1C=CC=C1c1cc2cnccc2cn1[SiH2]1C=CC=C1c1cc2ccccc2o1[SiH2]1C=CC=C1c1cc2cnccc2o1[SiH2]1C=CC=C1c1cc2sccc2cn1[SiH2]1C=CC=C1c1cc2occc2s1[SiH2]1C=CC=C1c1cc2ncccc2cn1[SiH2]1C=CC=C1c1ccc2ccsc2c1[SiH2]1C=CC=C1c1ccc2ccccc2c1[SiH2]1C=CC=C1c1cc2ncccc2s1[SiH2]1C=CC=C1c1cc2sccc2o1[SiH2]1C=CC=C1c1cc2occc2cn1[SiH2]1C=CC=C1c1ccc2C=C[SiH2]c2c1[SiH2]1C=CC=C1c1cc2occc2o1[SiH2]1C=CC=C1c1ccc2ccoc2c1[SiH2]1C=CC=C1c1ccc2cccnc2c1[SiH2]1C=CC=C1c1cnc2C=C[SiH2]c2c1[SiH2]1C=CC=C1c1cc2ncccc2o1[SiH2]1C=CC=C1c1ccc2ccncc2c1[SiH2]1C=CC=C1c1cnc2ccncc2c1[SiH2]1C=CC=C1c1cnc2ccsc2c1[SiH2]1C=CC=C1c1cnc2cccnc2c1[SiH2]1C=CC=C1c1cnc2ccccc2c1[SiH2]1C=CC=C1c1cnc2ccoc2c1C1C=Cc2ccc(cc12)-c1ccccc1[SiH2]1C=Cc2ccc(cc12)-c1ncncn1C1C=Cc2ccc(cc12)C1=CC=C[SiH2]1[SiH2]1C=Cc2ccc(cc12)-c1cccnc1C1C=Cc2ccc(cc12)-c1ncncn1[SiH2]1C=Cc2ccc(cc12)-c1nccs1C1C=Cc2ccc(cc12)-c1cccs1[SiH2]1C=Cc2ccc(cc12)-c1ccco1C1C=Cc2ccc(cc12)-c1ccco1C1C=Cc2ccc(cc12)-c1cccnc1[SiH2]1C=Cc2ccc(cc12)-c1ccccc1C1C=Cc2ccc(cc12)-c1cncs1[SiH2]1C=Cc2ccc(cc12)-c1cncs1C1C=Cc2ccc(cc12)-c1nccs1C1C=Cc2ccc(cc12)-c1ccccn1[SiH2]1C=Cc2ccc(cc12)-c1cccs1[SiH2]1C=Cc2ccc(cc12)-c1ccccn1C1C=Cc2cnc(cc12)-c1ncncn1C1C=Cc2cnc(cc12)-c1cccnc1[SiH2]1C=Cc2cnc(cc12)-c1cccs1C1C=Cc2cnc(cc12)-c1ccco1[SiH2]1C=Cc2cnc(cc12)-c1ccco1[SiH2]1C=Cc2cnc(cc12)-c1ncncn1C1C=Cc2cnc(cc12)-c1ccccn1C1C=Cc2cnc(cc12)-c1nccs1[SiH2]1C=Cc2cnc(cc12)-c1ccccn1C1C=Cc2cnc(cc12)-c1ccccc1[SiH2]1C=Cc2cnc(cc12)-c1nccs1C1C=Cc2cnc(cc12)-c1cncs1[SiH2]1C=Cc2cnc(cc12)-c1cncs1C1C=Cc2cnc(cc12)C1=CC=C[SiH2]1[SiH2]1C=Cc2cnc(cc12)-c1ccccc1C1C=Cc2cnc(cc12)-c1cccs1[SiH2]1C=Cc2cnc(cc12)-c1cccnc1[SiH2]1C=Cc2ncc(cc12)-c1ncncn1C1C=Cc2ncc(cc12)C1=CC=C[SiH2]1C1C=Cc2ncc(cc12)-c1ccco1[SiH2]1C=Cc2ncc(cc12)-c1cncs1C1C=Cc2ncc(cc12)-c1ccccn1C1C=Cc2ncc(cc12)-c1ccccc1[SiH2]1C=Cc2ncc(cc12)-c1ccco1C1C=Cc2ncc(cc12)-c1cncs1[SiH2]1C=Cc2ncc(cc12)-c1ccccc1[SiH2]1C=Cc2ncc(cc12)-c1ccccn1C1C=Cc2ncc(cc12)-c1nccs1C1C=Cc2ncc(cc12)-c1cccs1C1C=Cc2ncc(cc12)-c1ncncn1[SiH2]1C=Cc2ncc(cc12)-c1nccs1C1C=Cc2ncc(cc12)-c1cccnc1[SiH2]1C=Cc2ncc(cc12)-c1cccnc1[SiH2]1C=Cc2ncc(cc12)-c1cccs1[SiH2]1C=Cc2oc(cc12)-c1ncncn1C1C=Cc2oc(cc12)-c1cncs1C1C=Cc2oc(cc12)C1=CC=C[SiH2]1C1C=Cc2oc(cc12)-c1ccccc1[SiH2]1C=Cc2oc(cc12)-c1cncs1C1C=Cc2oc(cc12)-c1ccco1[SiH2]1C=Cc2oc(cc12)-c1cccnc1[SiH2]1C=Cc2oc(cc12)-c1nccs1C1C=Cc2oc(cc12)C1=Cc2occc2C1[SiH2]1C=Cc2oc(cc12)-c1ccco1C1C=Cc2oc(cc12)-c1cccs1C1C=Cc2oc(cc12)-c1cc2occc2o1C1C=Cc2oc(cc12)-c1nccs1C1C=Cc2oc3C=C(Cc3c12)c1ccco1C1C=Cc2oc(cc12)-c1ccccn1[SiH2]1C=Cc2oc(cc12)-c1cccs1C1C=Cc2oc(cc12)-c1ncncn1C1C=Cc2oc(cc12)-c1cccnc1C1C=Cc2oc(cc12)-c1cc2CC=Cc2o1[SiH2]1C=Cc2oc(cc12)-c1ccccc1[SiH2]1C=Cc2oc(cc12)-c1ccccn1[SiH2]1C=Cc2sc(cc12)-c1ccco1[SiH2]1C=Cc2sc(cc12)-c1ccccn1C1C=Cc2sc(cc12)-c1cccnc1C1C=Cc2sc(cc12)-c1ncncn1C1C=Cc2sc(cc12)-c1nccs1C1C=Cc2sc(cc12)-c1ccco1C1C=Cc2sc(cc12)-c1ccccc1C1C=Cc2sc(cc12)-c1ccccn1C1C=Cc2sc(cc12)-c1cncs1[SiH2]1C=Cc2sc(cc12)-c1ncncn1[SiH2]1C=Cc2sc(cc12)-c1cccnc1[SiH2]1C=Cc2sc(cc12)-c1ccccc1C1C=Cc2sc(cc12)C1=CC=C[SiH2]1C1C=Cc2oc3cc(oc3c12)-c1ccco1C1C=Cc2sc(cc12)-c1cccs1C1C=Cc2[nH]c(cc12)-c1cc2CC=Cc2[nH]1C1C=CC2=C1c1[nH]c(cc1C2)-c1ccco1C1C=Cc2[nH]c(cc12)-c1ccccn1C1C=Cc2[nH]c(cc12)-c1cccnc1C1C=Cc2[nH]c(cc12)-c1cc2[nH]ccc2o1C1C=Cc2[nH]c(cc12)C1=CC=C[SiH2]1C1C=CC2=C1C=C(C2)c1cc2CC=Cc2[nH]1C1C=Cc2[nH]c(cc12)-c1cncs1C1C=Cc2[nH]c(cc12)-c1cc2[nH]ccc2[nH]1C1C=Cc2[nH]c(cc12)C1=Cc2ccccc2C1C1C=Cc2[nH]c(cc12)C1=Cc2occc2C1C1C=Cc2[nH]c(cc12)-c1Cc2cc[nH]c2c1C1C=CC2=C1c1[nH]c(cc1C2)-c1ccccc1C1C=Cc2[nH]c(cc12)-c1ccc2C=CCc2c1C1C=Cc2[nH]c(cc12)-c1cc2CC=Cc2o1C1C=Cc2[nH]c(cc12)-c1cccs1C1C=Cc2[nH]c(cc12)-c1ccccc1C1C=Cc2[nH]c(cc12)-c1cc2occc2[nH]1C1C=CC=C1c1cc2CC=Cc2[nH]1C1C=c2cccc(-c3cc4CC=Cc4[nH]3)c2=C1C1C=Cc2[nH]c(cc12)-c1ncncn1C1ccc2[nH]c(cc12)-c1cc2CC=Cc2[nH]1C1C=Cc2[nH]c(cc12)-c1cc2occc2o1C1C=Cc2[nH]c(cc12)-c1nccs1C1C=Cc2[nH]c(cc12)-c1ccco1C1C=CC=C1c1cc2CC3=C(CC=C3)c2[nH]1C1ccc2[nH]c(cc12)-c1ccc2C=CCc2c1C1ccc2[nH]c(cc12)C1=CC2=C(C1)C=CC2[SiH2]1C=Cc2[nH]c(cc12)-c1ccco1C1ccc2[nH]c(cc12)C1=CC=C[SiH2]1C1ccc2[nH]c(cc12)C1=Cc2ccccc2C1[SiH2]1C=Cc2[nH]c(cc12)-c1cccs1C1ccc2[nH]c(cc12)-c1cc2occc2[nH]1[SiH2]1C=Cc2[nH]c(cc12)-c1cccnc1C1ccc2[nH]c(cc12)C1=Cc2occc2C1[SiH2]1C=Cc2[nH]c(cc12)-c1cncs1C1ccc2[nH]c(cc12)-c1ccco1C1ccc2[nH]c(cc12)C1=CC=CC1C1ccc2[nH]c(cc12)-c1cccnc1[SiH2]1C=Cc2[nH]c(cc12)-c1ccccn1C1ccc2[nH]c(cc12)-c1cncs1C1C=c2cccc(-c3cc4Cccc4[nH]3)c2=C1C1ccc2[nH]c(cc12)-c1ccccn1C1ccc2[nH]c(cc12)-c1cccs1[SiH2]1C=Cc2[nH]c(cc12)-c1nccs1C1ccc2[nH]c(cc12)-c1ccccc1C1C=CC=C1c1cc2[SiH2]C=Cc2[nH]1C1ccc2[nH]c(cc12)-c1cc2Cccc2[nH]1[SiH2]1C=Cc2[nH]c(cc12)-c1ccccc1C1ccc2[nH]c(cc12)-c1cc2CC=Cc2o1[SiH2]1C=Cc2[nH]c(cc12)-c1ncncn1C1C=CC=C1c1cc2Cc3ccoc3-c2[nH]1C1ccc2[nH]c(cc12)-c1ncncn1C1c2ccoc2-c2[nH]c(cc12)-c1ccco1C1ccc2[nH]c(cc12)-c1cc2occc2o1C1ccc2[nH]c(cc12)-c1nccs1C1C=CC=C1c1cc2Cc3ccccc3-c2[nH]1[SiH2]1C=CC=C1c1cc2[SiH2]C=Cc2[nH]1[SiH2]1ccc2[nH]c(cc12)-c1nccs1[SiH2]1ccc2[nH]c(cc12)-c1ccco1[SiH2]1ccc2[nH]c(cc12)-c1cccnc1C1C=CC=C1c1cc2[nH]c3C=CCc3c2[nH]1[SiH2]1ccc2[nH]c(cc12)-c1ncncn1[SiH2]1ccc2[nH]c(cc12)-c1cccs1[SiH2]1ccc2[nH]c(cc12)-c1ccccc1C1C=CC=C1c1cc2[SiH2]ccc2[nH]1[SiH2]1ccc2[nH]c(cc12)-c1cncs1[SiH2]1ccc2[nH]c(cc12)-c1ccccn1C1C=Cc2[nH]c3cc([nH]c3c12)-c1ccco1[SiH2]1ccc2[nH]c(cc12)C1=CC=C[SiH2]1C1ccc2[nH]c3cc([nH]c3c12)C1=CC=CC1c1coc(c1)-c1cc2[nH]c3ccoc3c2[nH]1C1ccc2[nH]c3cc([nH]c3c12)-c1ccco1C1C=CC=C1c1cc2[nH]c3ccoc3c2[nH]1C1C=c2ccc3[nH]c(cc3c2=C1)C1=CC=CC1C1cc2ccc3[nH]c(cc3c2c1)C1=CC=CC1C1C=CC=C1c1cc2cc3CC=Cc3cc2[nH]1C1C=CC=C1c1cc2ccc3C=CCc3c2[nH]1c1c([nH]c2ccncc12)-c1ccccn1c1c([nH]c2ccccc12)-c1ccccn1[SiH2]1C=CC=C1c1cc2ccccc2[nH]1c1c([nH]c2ccncc12)-c1ccccc1c1coc(c1)-c1cc2ccccc2[nH]1c1c([nH]c2ccncc12)-c1ncncn1C1C=CC=C1c1cc2ccccc2[nH]1c1ncc(s1)-c1cc2ccccc2[nH]1c1csc(n1)-c1cc2cnccc2[nH]1c1c([nH]c2ccccc12)-c1ncncn1c1csc(c1)-c1cc2cnccc2[nH]1c1csc(c1)-c1cc2ccccc2[nH]1C1C=CC2=C1C=C(C2)c1cc2ccccc2[nH]1c1ncc(s1)-c1cc2cnccc2[nH]1c1c([nH]c2ccccc12)-c1ccccc1c1c([nH]c2ccncc12)-c1cccnc1c1coc(c1)-c1cc2cnccc2[nH]1[SiH2]1C=CC=C1c1cc2cnccc2[nH]1c1c([nH]c2ccccc12)-c1cccnc1C1C=CC=C1c1cc2cnccc2[nH]1c1csc(n1)-c1cc2ccccc2[nH]1c1c([nH]c2cccnc12)-c1ccccc1c1csc(c1)-c1cc2ncccc2[nH]1c1c([nH]c2cccnc12)-c1ccccn1[SiH2]1C=CC=C1c1cc2ncccc2[nH]1c1c([nH]c2cccnc12)-c1ncncn1c1c([nH]c2cccnc12)-c1cccnc1C1C=CC=C1c1cc2oc3C=CCc3c2[nH]1c1coc(c1)-c1cc2ncccc2[nH]1c1csc(n1)-c1cc2ncccc2[nH]1C1C=CC=C1c1cc2ncccc2[nH]1C1C=Cc2oc3cc([nH]c3c12)-c1ccco1c1ncc(s1)-c1cc2ncccc2[nH]1C1C(=Cc2occc12)c1cc2occc2[nH]1c1csc(n1)-c1cc2occc2[nH]1c1cc2[nH]c(cc2o1)-c1ccccc1[SiH2]1C=CC=C1c1cc2occc2[nH]1c1cc2[nH]c(cc2o1)-c1cccnc1c1cc2[nH]c(cc2o1)-c1ccccn1c1cc2[nH]c(cc2o1)-c1cc2occc2[nH]1c1cc2[nH]c(cc2o1)-c1cc2occc2o1C1C=Cc2oc(cc12)-c1cc2occc2[nH]1c1csc(c1)-c1cc2occc2[nH]1c1cc2[nH]c(cc2o1)-c1ncncn1C1C=CC=C1c1cc2occc2[nH]1c1cc2[nH]c(cc2o1)-c1cncs1C1C=CC2=C1C=C(C2)c1cc2occc2[nH]1c1coc(c1)-c1cc2occc2[nH]1c1coc(c1)-c1cc2oc3ccoc3c2[nH]1C1C=CC=C1c1cc2oc3ccoc3c2[nH]1c1cc2[nH]c(cc2s1)-c1ccccc1c1cc2[nH]c(cc2s1)-c1cncs1c1cc2[nH]c(cc2s1)-c1cccnc1c1cc2[nH]c(cc2s1)-c1ncncn1C1C=CC=C1c1cc2sccc2[nH]1c1coc(c1)-c1cc2sccc2[nH]1c1csc(n1)-c1cc2sccc2[nH]1c1cc2[nH]c(cc2s1)-c1ccccn1[SiH2]1C=CC=C1c1cc2sccc2[nH]1c1csc(c1)-c1cc2sccc2[nH]1C1C=CC=C1C1=Cc2[nH]c3ccccc3c2C1C1C(=Cc2[nH]c3ccoc3c12)c1ccco1C1C=CC=C1C1=Cc2[nH]c3ccoc3c2C1C1C=CC=C1c1cc2[nH]c3C=CCc3c2o1C1C=Cc2[nH]c3C=C(Cc3c12)c1ccco1C1C=CC=C1c1ccc2c3CC=Cc3[nH]c2c1C1C=Cc2[nH]c3cc(oc3c12)-c1ccco1C1C=Cc2[nH]c3C=C(Cc3c12)c1ccccc1C1C=CC=C1C1=Cc2[nH]c3C=CCc3c2C1c1coc(c1)-c1cc2[nH]c3ccoc3c2o1C1C=CC=C1c1cc2[nH]c3ccoc3c2o1C1C=CC=C1C1=Cc2[nH]ccc2C1C1c(cc2[nH]ccc12)-c1Cc2cc[nH]c2c1C1c(cc2[nH]ccc12)-c1ncncn1C1c(cc2[nH]ccc12)-c1cncs1C1C(=Cc2[nH]ccc12)c1nccs1C1c(cc2[nH]ccc12)C1=CC=C[SiH2]1C1c(cc2[nH]ccc12)-c1cc2occc2o1C1C(=CC2=C1c1[nH]ccc1C2)c1ccco1C1c(cc2[nH]ccc12)-c1cccnc1C1C(=Cc2[nH]ccc12)C1=Cc2occc2C1C1C(=Cc2[nH]ccc12)c1cc2occc2o1C1C=c2cccc(-c3Cc4cc[nH]c4c3)c2=C1C1C2=C(CC(=C2)c2ccccc2)c2[nH]ccc12C1C(=Cc2[nH]ccc12)C1=Cc2[nH]ccc2C1C1c(cc2[nH]ccc12)C1=Cc2occc2C1C1C(=Cc2[nH]ccc12)c1cc2occc2[nH]1C1C=CC=C1C1=CC2=C(C1)c1[nH]ccc1C2C1c(cc2[nH]ccc12)-c1cc2[nH]ccc2o1C1c(cc2[nH]ccc12)-c1ccco1C1ccc2[nH]c(cc12)C1=Cc2[nH]ccc2C1C1C=Cc2ccc(cc12)C1=Cc2[nH]ccc2C1C1c(cc2[nH]ccc12)-c1ccccc1C1C=Cc2[nH]c(cc12)C1=Cc2[nH]ccc2C1C1c(cc2[nH]ccc12)C1=Cc2[nH]ccc2C1C1C=CC2=C1C=C(C2)C1=Cc2[nH]ccc2C1C1C(=Cc2[nH]ccc12)c1ccccn1C1C=c2cccc(C3=Cc4[nH]ccc4C3)c2=C1C1C(=Cc2[nH]ccc12)c1cc2[nH]ccc2o1C1C(=Cc2[nH]ccc12)c1cc2[nH]ccc2[nH]1C1C(=Cc2[nH]ccc12)c1ccco1C1C(=Cc2[nH]ccc12)c1cncs1C1C(=Cc2[nH]ccc12)c1cccnc1C1C=CC=C1c1Cc2cc[nH]c2c1C1C(=Cc2[nH]ccc12)c1cccs1C1c(cc2[nH]ccc12)-c1nccs1C1ccc2[nH]c(cc12)-c1Cc2cc[nH]c2c1C1C=Cc2oc(cc12)-c1Cc2cc[nH]c2c1C1c(cc2[nH]ccc12)-c1cc2occc2[nH]1C1c(cc2[nH]ccc12)-c1cc2[nH]ccc2[nH]1C1C(=Cc2[nH]ccc12)C1=Cc2ccccc2C1C1C=Cc2oc(cc12)C1=Cc2[nH]ccc2C1C1c(cc2[nH]ccc12)C1=Cc2ccccc2C1C1C(=Cc2[nH]ccc12)c1ccccc1C1c(cc2[nH]ccc12)-c1ccccn1C1c(cc2[nH]ccc12)-c1cccs1C1C(=Cc2[nH]ccc12)C1=CC=C[SiH2]1C1C(=Cc2[nH]ccc12)c1ncncn1C1C=Cc2ccc(cc12)-c1Cc2cc[nH]c2c1C1C=CC2=C1C=C(C2)c1Cc2cc[nH]c2c1[SiH2]1C(=Cc2[nH]ccc12)c1cncs1C1C=CC=C1C1=Cc2[nH]ccc2[SiH2]1C1c2cc[nH]c2-c2[nH]c(cc12)-c1ccco1[SiH2]1C(=Cc2[nH]ccc12)c1ncncn1C1c2cc[nH]c2-c2oc(cc12)-c1ccco1[SiH2]1C=CC=C1c1[SiH2]c2cc[nH]c2c1[SiH2]1C(=Cc2[nH]ccc12)c1nccs1[SiH2]1c(cc2[nH]ccc12)-c1ncncn1[SiH2]1C(=Cc2[nH]ccc12)c1ccccc1[SiH2]1C(=Cc2[nH]ccc12)c1ccccn1C1C=CC=C1c1cc2Cc3cc[nH]c3-c2[nH]1C1C=CC=C1c1cc2Cc3cc[nH]c3-c2o1[SiH2]1C(=Cc2[nH]ccc12)c1cccs1[SiH2]1c(cc2[nH]ccc12)-c1nccs1[SiH2]1c(cc2[nH]ccc12)-c1ccco1C1C=CC=C1c1ccc-2c(Cc3cc[nH]c-23)c1[SiH2]1C(=Cc2[nH]ccc12)c1ccco1[SiH2]1c(cc2[nH]ccc12)-c1ccccn1[SiH2]1c(cc2[nH]ccc12)-c1ccccc1[SiH2]1c(cc2[nH]ccc12)-c1cccs1[SiH2]1C=CC=C1C1=Cc2[nH]ccc2[SiH2]1C1C=CC=C1c1[SiH2]c2cc[nH]c2c1[SiH2]1c(cc2[nH]ccc12)-c1cncs1[SiH2]1C(=Cc2[nH]ccc12)c1cccnc1[SiH2]1c(cc2[nH]ccc12)-c1cccnc1c1cc2[nH]c(cc2[nH]1)-c1cc2[nH]ccc2[nH]1C1C=CC=C1C1=Cc2[nH]c3cc[nH]c3c2C1c1cc2[nH]c(cc2[nH]1)-c1cncs1c1cc2[nH]c(cc2[nH]1)-c1cccnc1C1C=CC2=C1C=C(C2)c1cc2[nH]ccc2[nH]1[SiH2]1C=CC=C1c1cc2[nH]ccc2[nH]1c1coc(c1)-c1cc2[nH]ccc2[nH]1c1cc2[nH]c(cc2[nH]1)-c1ccccc1c1csc(n1)-c1cc2[nH]ccc2[nH]1c1cc2[nH]c(cc2[nH]1)-c1ccccn1C1C=Cc2oc(cc12)-c1cc2[nH]ccc2[nH]1C1C(=Cc2occc12)c1cc2[nH]ccc2[nH]1C1ccc2[nH]c(cc12)-c1cc2[nH]ccc2[nH]1C1C(=Cc2[nH]c3cc[nH]c3c12)c1ccco1c1cc2[nH]c(cc2[nH]1)-c1cc2occc2[nH]1c1csc(c1)-c1cc2[nH]ccc2[nH]1C1C=CC=C1c1cc2[nH]ccc2[nH]1c1cc2[nH]c(cc2[nH]1)-c1cc2occc2o1c1cc2[nH]c(cc2[nH]1)-c1ncncn1C1C=CC=C1c1cc2[nH]c3cc[nH]c3c2o1c1coc(c1)-c1cc2[nH]c3cc[nH]c3c2[nH]1C1C=CC=C1c1cc2[nH]c3cc[nH]c3c2[nH]1C1C=CC=C1c1Cc2c(c1)[nH]c1cc[nH]c21C1c(cc2[nH]c3cc[nH]c3c12)-c1ccco1c1coc(c1)-c1cc2[nH]c3cc[nH]c3c2o1C1C=c2c(cc3[nH]ccc3c2=C1)C1=CC=CC1C1cc2c(cc3[nH]ccc3c2c1)C1=CC=CC1C1C=CC=C1C1=Cc2cc3[nH]ccc3cc2C1c1csc(c1)-c1ccc2cc[nH]c2c1c1coc(c1)-c1ccc2cc[nH]c2c1c1cc2ccc(cc2[nH]1)-c1ccccc1c1cc2ccc(cc2[nH]1)-c1ncncn1C1C=CC2=C1C=C(C2)c1ccc2cc[nH]c2c1C1C=CC=C1C1=Cc2ccc3cc[nH]c3c2C1C1C=CC=C1c1ccc2cc[nH]c2c1c1cc2ccc(cc2[nH]1)-c1cccnc1[SiH2]1C=CC=C1c1ccc2cc[nH]c2c1c1cc2ccc(cc2[nH]1)-c1cncs1c1cc2ccc(cc2[nH]1)-c1ccccn1c1csc(n1)-c1ccc2cc[nH]c2c1c1cc2ncc(cc2[nH]1)-c1ccccn1c1cc2ncc(cc2[nH]1)-c1ccccc1c1csc(c1)-c1cnc2cc[nH]c2c1C1C=CC=C1c1cc2[nH]ccc2cn1c1csc(n1)-c1cnc2cc[nH]c2c1c1cc2ncc(cc2[nH]1)-c1ncncn1[SiH2]1C=CC=C1c1cc2[nH]ccc2cn1c1coc(c1)-c1cc2[nH]ccc2cn1c1csc(c1)-c1cc2[nH]ccc2cn1c1cc2cnc(cc2[nH]1)-c1cncs1c1cc2ncc(cc2[nH]1)-c1cccnc1c1coc(c1)-c1cnc2cc[nH]c2c1c1cc2ncc(cc2[nH]1)-c1cncs1c1cc2cnc(cc2[nH]1)-c1ccccn1c1cc2cnc(cc2[nH]1)-c1ccccc1c1csc(n1)-c1cc2[nH]ccc2cn1c1cc2cnc(cc2[nH]1)-c1cccnc1[SiH2]1C=CC=C1c1cnc2cc[nH]c2c1C1C=CC=C1c1cnc2cc[nH]c2c1c1cc2cnc(cc2[nH]1)-c1ncncn1c1cc2oc(cc2[nH]1)-c1ccccn1C1C=CC=C1c1cc2[nH]ccc2o1C1C(=Cc2oc3cc[nH]c3c12)c1ccco1c1cc2oc(cc2[nH]1)-c1cc2occc2[nH]1c1cc2oc(cc2[nH]1)-c1cc2occc2o1c1coc(c1)-c1cc2[nH]ccc2o1c1csc(c1)-c1cc2[nH]ccc2o1c1cc2oc(cc2[nH]1)-c1ccccc1[SiH2]1C=CC=C1c1cc2[nH]ccc2o1C1C=CC=C1C1=Cc2oc3cc[nH]c3c2C1C1ccc2[nH]c(cc12)-c1cc2[nH]ccc2o1C1C(=Cc2occc12)c1cc2[nH]ccc2o1c1cc2oc(cc2[nH]1)-c1cc2[nH]ccc2o1C1C=CC2=C1C=C(C2)c1cc2[nH]ccc2o1C1C=Cc2oc(cc12)-c1cc2[nH]ccc2o1c1cc2oc(cc2[nH]1)-c1cncs1c1cc2[nH]c(cc2[nH]1)-c1cc2[nH]ccc2o1c1csc(n1)-c1cc2[nH]ccc2o1c1cc2oc(cc2[nH]1)-c1ncncn1c1cc2oc(cc2[nH]1)-c1cccnc1c1cc2sc(cc2[nH]1)-c1cccnc1c1coc(c1)-c1cc2oc3cc[nH]c3c2o1c1csc(n1)-c1cc2[nH]ccc2s1c1cc2sc(cc2[nH]1)-c1ccccn1C1C=CC=C1c1cc2[nH]ccc2s1c1coc(c1)-c1cc2oc3cc[nH]c3c2[nH]1c1cc2sc(cc2[nH]1)-c1ccccc1c1coc(c1)-c1cc2[nH]ccc2s1c1csc(c1)-c1cc2[nH]ccc2s1c1cc2sc(cc2[nH]1)-c1ncncn1c1cc2sc(cc2[nH]1)-c1cncs1[SiH2]1C=CC=C1c1cc2[nH]ccc2s1C1C=CC=C1c1cc2oc3cc[nH]c3c2[nH]1C1C=CC=C1c1cc2oc3cc[nH]c3c2o1[SiH2]1C=Cc2[nH]c(cc12)-c1ccc[nH]1C1C=CC2=C1c1[nH]c(cc1C2)-c1ccc[nH]1[SiH2]1C=Cc2cnc(cc12)-c1ccc[nH]1C1C=Cc2oc(cc12)-c1ccc[nH]1C1c2cc([nH]c2-c2occc12)-c1ccc[nH]1C1c2cc[nH]c2-c2[nH]c(cc12)-c1ccc[nH]1C1c(cc2[nH]ccc12)-c1ccc[nH]1C1c(cc2[nH]c3cc[nH]c3c12)-c1ccc[nH]1C1ccc2[nH]c(cc12)-c1ccc[nH]1C1C=Cc2cnc(cc12)-c1ccc[nH]1C1C=Cc2[nH]c(cc12)-c1ccc[nH]1[SiH2]1C=Cc2sc(cc12)-c1ccc[nH]1C1C=Cc2sc(cc12)-c1ccc[nH]1[SiH2]1ccc2[nH]c(cc12)-c1ccc[nH]1[SiH2]1C=Cc2oc(cc12)-c1ccc[nH]1[SiH2]1c(cc2[nH]ccc12)-c1ccc[nH]1C1c2cc[nH]c2-c2oc(cc12)-c1ccc[nH]1C1C=c2c3C=CCc3cc(-c3ccc[nH]3)c2=C1C1C=Cc2[nH]c3cc([nH]c3c12)-c1ccc[nH]1c1c[nH]c(c1)-c1cc2[nH]c3cc[nH]c3c2[nH]1C1ccc2[nH]c3cc([nH]c3c12)-c1ccc[nH]1c1c[nH]c(c1)-c1cc2[nH]ccc2s1C1C=Cc2[nH]c3cc(oc3c12)-c1ccc[nH]1c1c[nH]c(c1)-c1cc2[nH]c3ccoc3c2[nH]1c1c[nH]c(c1)-c1cc2[nH]ccc2[nH]1c1c[nH]c(c1)-c1cc2[nH]c3cc[nH]c3c2o1c1c[nH]c(c1)-c1cc2[nH]c3ccoc3c2o1c1c[nH]c(c1)-c1cc2[nH]ccc2cn1c1c[nH]c(c1)-c1cc2[nH]ccc2o1c1c[nH]c(c1)-c1cc2cnccc2[nH]1c1c[nH]c(c1)-c1cc2cnccc2o1c1c[nH]c(c1)-c1cc2ccccc2[nH]1c1c[nH]c(c1)-c1cc2cnccc2cn1c1c[nH]c(c1)-c1cc2cnccc2s1c1c[nH]c(c1)-c1cc2ccccc2o1c1c[nH]c(c1)-c1cc2ccccc2s1c1c[nH]c(c1)-c1cc2ccccc2cn1c1c[nH]c(c1)-c1cc2sccc2cn1c1c[nH]c(c1)-c1cc2sccc2s1c1c[nH]c(c1)-c1cc2oc3ccoc3c2o1c1c[nH]c(c1)-c1cc2ncccc2s1c1c[nH]c(c1)-c1cc2oc3ccoc3c2[nH]1c1c[nH]c(c1)-c1cc2occc2o1c1c[nH]c(c1)-c1cc2sccc2o1C1C=Cc2oc3cc(oc3c12)-c1ccc[nH]1c1c[nH]c(c1)-c1cc2occc2[nH]1c1c[nH]c(c1)-c1cc2occc2cn1c1c[nH]c(c1)-c1cc2oc3cc[nH]c3c2[nH]1c1c[nH]c(c1)-c1cc2sccc2[nH]1c1c[nH]c(c1)-c1cc2occc2s1c1c[nH]c(c1)-c1cc2ncccc2o1C1C=Cc2oc3cc([nH]c3c12)-c1ccc[nH]1c1c[nH]c(c1)-c1cc2oc3cc[nH]c3c2o1c1c[nH]c(c1)-c1cc2ncccc2cn1c1c[nH]c(c1)-c1cc2ncccc2[nH]1c1c[nH]c(c1)-c1ccc2ccsc2c1c1c[nH]c(c1)-c1ccc2cc[nH]c2c1c1c[nH]c(c1)-c1ccc2ccoc2c1c1c[nH]c(c1)-c1ccc2ccncc2c1C1C=Cc2ccc(cc12)-c1ccc[nH]1[SiH2]1C=Cc2ncc(cc12)-c1ccc[nH]1[SiH2]1C=Cc2ccc(cc12)-c1ccc[nH]1c1c[nH]c(c1)-c1ccc2ccccc2c1C1C=Cc2ncc(cc12)-c1ccc[nH]1c1c[nH]c(c1)-c1ccc2cccnc2c1c1c[nH]c(c1)-c1cnc2ccncc2c1c1c[nH]c(c1)-c1cnc2ccoc2c1c1c[nH]c(c1)-c1cnc2cc[nH]c2c1c1c[nH]c(c1)-c1cnc2ccccc2c1c1c[nH]c(c1)-c1cnc2ccsc2c1c1c[nH]c(c1)-c1cnc2cccnc2c1C1C(=Cc2[nH]c3cc[nH]c3c12)c1ccc[nH]1C1C=Cc2cc3CC(=Cc3cc12)c1ccc[nH]1[SiH2]1C=CC2=C1C=C([SiH2]2)c1ccc[nH]1[SiH2]1C(=Cc2[nH]ccc12)c1ccc[nH]1C1C=Cc2oc3C=C(Cc3c12)c1ccc[nH]1C1C(=Cc2[nH]c3ccoc3c12)c1ccc[nH]1C1C(=Cc2[nH]ccc12)c1ccc[nH]1[SiH2]1C(=Cc2ncccc12)c1ccc[nH]1C1C=Cc2[nH]c3C=C(Cc3c12)c1ccc[nH]1C1C=CC2=C1C=C([SiH2]2)c1ccc[nH]1[SiH2]1C(=Cc2cnccc12)c1ccc[nH]1C1C=Cc2ccc3C=C(Cc3c12)c1ccc[nH]1C1C=CC2=C1C=C(C2)c1ccc[nH]1C1C(=CC2=C1c1[nH]ccc1C2)c1ccc[nH]1C1C=c2ccc3CC(=Cc3c2=C1)c1ccc[nH]1C1C(=Cc2ncccc12)c1ccc[nH]1C1C(=CC2=C1C=C[SiH2]2)c1ccc[nH]1C1C(=Cc2ccccc12)c1ccc[nH]1C1C(=Cc2cnccc12)c1ccc[nH]1[SiH2]1C(=Cc2ccccc12)c1ccc[nH]1[SiH2]1C(=Cc2sccc12)c1ccc[nH]1[SiH2]1C(=Cc2occc12)c1ccc[nH]1C1C(=Cc2occc12)c1ccc[nH]1C1C(=Cc2sccc12)c1ccc[nH]1C1C(=Cc2oc3cc[nH]c3c12)c1ccc[nH]1C1C(=Cc2oc3ccoc3c12)c1ccc[nH]1C1cccc1-c1ccc(nc1)-c1ccccc1C1cccc1-c1ccc(cc1)-c1ccccc1C1cc-c2[SiH2]c3c4Ccc-c4ncc3-c12C1cc-c2ccc3cc4ccncc4cc3c12C1cc-c2ccc3c(Cc4-cccn-c34)c12C1cc-c2Cc3c4Ccc-c4ccc3-c12C1c2-c3-nccc-c3cn-c2c2ccccc12[SiH2]1C(=Cc2sccc12)c1cccnc1C1C(=Cc2occc12)c1ccccc1[SiH2]1C(=Cc2cnccc12)c1ncncn1[SiH2]1C(=Cc2occc12)c1ccccc1C1C(=Cc2sccc12)c1ncncn1C1C(=Cc2occc12)c1cc2occc2o1C1C(=Cc2occc12)c1cccnc1C1C(=Cc2occc12)c1nccs1[SiH2]1C(=Cc2occc12)c1cccnc1[SiH2]1C(=Cc2occc12)c1cccs1[SiH2]1C(=Cc2sccc12)c1ccccn1[SiH2]1C(=Cc2occc12)c1cncs1[SiH2]1C(=Cc2occc12)c1ccccn1C1C(=Cc2sccc12)c1ccccc1[SiH2]1C(=Cc2occc12)c1nccs1C1C(=Cc2sccc12)c1ccccn1[SiH2]1C(=Cc2sccc12)c1ccccc1[SiH2]1C(=Cc2sccc12)c1ncncn1C1C(=Cc2sccc12)c1cncs1C1C(=Cc2occc12)c1cccs1C1C(=Cc2occc12)c1ncncn1C1C(=Cc2cnccc12)c1ncncn1[SiH2]1C(=Cc2occc12)c1ncncn1C1C(=Cc2sccc12)c1cccnc1C1C(=Cc2occc12)c1cncs1C1C(=Cc2occc12)C1=Cc2occc2C1C1C(=Cc2occc12)c1ccccn1c1cc2ccc(cc2s1)-c1cccnc1c1cc2ccc(cc2s1)-c1ccccn1c1cc2ccc(cc2s1)-c1cncs1c1cc2ccc(cc2o1)-c1cccnc1c1cc2ccc(cc2s1)-c1ncncn1c1cc2ccc(cc2o1)-c1ccccn1c1cc2ccc(cc2s1)-c1ccccc1c1cc2ccc(cc2o1)-c1ccccc1c1csc(c1)-c1ccc2ccoc2c1c1cc2ccc(cc2o1)-c1ncncn1c1cc2ccc(cc2o1)-c1cncs1c1csc(n1)-c1ccc2ccoc2c1c1cc2ccc(cc2cn1)-c1ncncn1c1cc2cnc(cc2o1)-c1ncncn1c1cc2cnc(cc2s1)-c1cncs1c1csc(n1)-c1cc2occc2cn1c1cc2cnc(cc2cn1)-c1ncncn1c1csc(c1)-c1cc2occc2cn1c1cc2cnc(cc2s1)-c1ncncn1c1cc2cnc(cc2s1)-c1ccccn1c1cc2cnc(cc2o1)-c1cccnc1c1cc2cnc(cc2o1)-c1cncs1c1cc2cnc(cc2o1)-c1ccccn1c1cc2cnc(cc2s1)-c1cccnc1c1cc2cnc(cc2o1)-c1ccccc1c1cc2cnc(cc2s1)-c1ccccc1c1csc(n1)-c1cnc2ccoc2c1c1cc2ncc(cc2cn1)-c1ncncn1c1cc2ncc(cc2s1)-c1ccccc1c1cc2ncc(cc2s1)-c1ncncn1c1csc(c1)-c1cnc2ccoc2c1c1cc2ncc(cc2o1)-c1ccccc1c1cc2ncc(cc2s1)-c1cccnc1c1cc2ncc(cc2o1)-c1ccccn1c1cc2ncc(cc2s1)-c1cncs1c1cc2ncc(cc2o1)-c1cccnc1c1cc2ncc(cc2o1)-c1cncs1c1cc2ncc(cc2s1)-c1ccccn1c1cc2ncc(cc2o1)-c1ncncn1c1csc(n1)-c1cc2occc2o1c1cc2oc(cc2s1)-c1ccccn1c1cc2oc(cc2o1)-c1cc2occc2o1c1cc2oc(cc2o1)-c1ncncn1c1cc2oc(cc2s1)-c1ncncn1c1cc2oc(cc2o1)-c1ccccc1c1c(oc2ccncc12)-c1ncncn1c1cc2oc(cc2o1)-c1cccnc1c1cc2oc(cc2s1)-c1cccnc1c1cc2oc(cc2o1)-c1cncs1c1cc2oc(cc2s1)-c1cncs1c1csc(c1)-c1cc2occc2o1c1cc2oc(cc2s1)-c1ccccc1c1cc2oc(cc2o1)-c1ccccn1c1cc2sc(cc2s1)-c1ncncn1c1cc2sc(cc2o1)-c1ccccc1c1cc2sc(cc2s1)-c1ccccc1c1cc2sc(cc2o1)-c1cccnc1c1cc2sc(cc2o1)-c1cncs1c1cc2sc(cc2s1)-c1cccnc1c1c(sc2ccncc12)-c1ncncn1c1cc2sc(cc2o1)-c1ccccn1c1csc(n1)-c1cc2occc2s1c1csc(c1)-c1cc2occc2s1c1cc2sc(cc2s1)-c1ccccn1c1cc2sc(cc2o1)-c1ncncn1c1ccc(cc1)-c1cc2cnccc2cn1c1ccc(cc1)-c1cc2ncccc2cn1c1ccc(cc1)-c1cc2ccccc2cn1c1c(oc2cccnc12)-c1ccccc1c1c(oc2ccncc12)-c1ccccc1c1c(sc2cccnc12)-c1ccccc1c1c(sc2ccncc12)-c1ccccc1c1c(sc2ccccc12)-c1ccccc1c1c(oc2ccccc12)-c1ccccc1c1ccc(cc1)-c1ccc2cccnc2c1c1ccc(cc1)-c1cnc2cccnc2c1c1ccc(cc1)-c1cnc2ccncc2c1c1ccc(cc1)-c1ccc2ccncc2c1c1ccc(cc1)-c1cnc2ccccc2c1c1ccc(cc1)-c1ccc2ccccc2c1C1C(=Cc2ccccc12)c1ccccc1[SiH2]1C(=Cc2cnccc12)c1ccccc1[SiH2]1C(=Cc2ncccc12)c1ccccc1C1C(=Cc2cnccc12)c1ccccc1C1C(=Cc2ncccc12)c1ccccc1[SiH2]1C(=Cc2ccccc12)c1ccccc1c1cncc(c1)-c1cc2cnccc2cn1c1c(sc2ccncc12)-c1cccnc1c1c(oc2ccncc12)-c1cccnc1c1cncc(c1)-c1ccc2ccncc2c1c1cncc(c1)-c1cnc2ccncc2c1C1C(=Cc2cnccc12)c1cccnc1[SiH2]1C(=Cc2cnccc12)c1cccnc1c1c(sc2cccnc12)-c1ccccn1c1c(oc2ccccc12)-c1ccccn1c1c(oc2cccnc12)-c1ccccn1c1c(sc2ccncc12)-c1ccccn1c1ccc(nc1)-c1cc2ncccc2cn1c1c(oc2ccncc12)-c1ccccn1c1c(sc2ccccc12)-c1ccccn1c1ccc(nc1)-c1cc2ccccc2cn1c1ccc(nc1)-c1cc2cnccc2cn1c1ccc(nc1)-c1ccc2ccccc2c1c1ccc(nc1)-c1ccc2cccnc2c1c1ccc(nc1)-c1ccc2ccncc2c1c1ccc(nc1)-c1cnc2ccncc2c1c1ccc(nc1)-c1cnc2ccccc2c1c1ccc(nc1)-c1cnc2cccnc2c1C1C(=Cc2ccccc12)c1ccccn1[SiH2]1C(=Cc2cnccc12)c1ccccn1[SiH2]1C(=Cc2ncccc12)c1ccccn1[SiH2]1C(=Cc2ccccc12)c1ccccn1C1C(=Cc2ncccc12)c1ccccn1C1C(=Cc2cnccc12)c1ccccn1c1coc(c1)-c1cc2ccccc2s1c1coc(c1)-c1cc2cnccc2s1c1coc(c1)-c1cc2ncccc2o1c1coc(c1)-c1cc2ncccc2s1c1coc(c1)-c1cc2ccccc2o1c1coc(c1)-c1cc2cnccc2cn1c1coc(c1)-c1cc2cnccc2o1c1coc(c1)-c1cc2ncccc2cn1c1coc(c1)-c1cc2ccccc2cn1c1coc(c1)-c1cc2occc2s1c1coc(c1)-c1cc2sccc2o1c1coc(c1)-c1cc2occc2cn1c1coc(c1)-c1cc2occc2o1c1coc(c1)-c1cc2sccc2s1c1coc(c1)-c1cc2sccc2cn1c1coc(c1)-c1cc2oc3ccoc3c2o1c1coc(c1)-c1cnc2ccncc2c1c1coc(c1)-c1cnc2ccsc2c1c1coc(c1)-c1cnc2ccoc2c1c1coc(c1)-c1cnc2cccnc2c1c1coc(c1)-c1ccc2ccccc2c1c1coc(c1)-c1ccc2ccncc2c1c1coc(c1)-c1ccc2ccsc2c1c1coc(c1)-c1ccc2ccoc2c1c1coc(c1)-c1cnc2ccccc2c1c1coc(c1)-c1ccc2cccnc2c1[SiH2]1C(=Cc2ccccc12)c1ccco1C1C(=Cc2ccccc12)c1ccco1[SiH2]1C(=Cc2cnccc12)c1ccco1C1C(=Cc2cnccc12)c1ccco1C1C(=Cc2occc12)c1ccco1C1C(=Cc2oc3ccoc3c12)c1ccco1[SiH2]1C(=Cc2occc12)c1ccco1C1C(=Cc2sccc12)c1ccco1[SiH2]1C(=Cc2sccc12)c1ccco1C1C(=Cc2ncccc12)c1ccco1[SiH2]1C(=Cc2ncccc12)c1ccco1c1csc(c1)-c1cc2ccccc2s1c1csc(c1)-c1cc2ncccc2cn1c1csc(c1)-c1cc2cnccc2cn1c1csc(c1)-c1cc2ccccc2cn1c1csc(c1)-c1cc2sccc2o1c1csc(c1)-c1cc2ncccc2s1c1csc(c1)-c1cc2ccccc2o1c1csc(c1)-c1cc2ncccc2o1c1csc(c1)-c1cc2cnccc2s1c1csc(c1)-c1cc2sccc2cn1c1csc(c1)-c1cc2cnccc2o1c1csc(c1)-c1cnc2ccsc2c1c1csc(c1)-c1ccc2ccccc2c1c1csc(c1)-c1cnc2ccncc2c1c1csc(c1)-c1ccc2cccnc2c1c1csc(c1)-c1ccc2ccsc2c1c1csc(c1)-c1cnc2ccccc2c1c1csc(c1)-c1ccc2ccncc2c1c1csc(c1)-c1cnc2cccnc2c1C1C(=Cc2cnccc12)c1cccs1C1C(=Cc2ncccc12)c1cccs1C1C(=Cc2ccccc12)c1cccs1[SiH2]1C(=Cc2cnccc12)c1cccs1[SiH2]1C(=Cc2ncccc12)c1cccs1[SiH2]1C(=Cc2ccccc12)c1cccs1C1C(=Cc2ccccc12)c1cccnc1[SiH2]1C(=Cc2ccccc12)c1cccnc1C1C(=Cc2ccccc12)c1ncncn1C1C(=Cc2sccc12)c1cccs1C1c2ccccc2-c2cc3cnccc3cc12C1c2ccccc2-c2ccc3ccncc3c12[SiH2]1C(=Cc2ccccc12)c1ncncn1c1c(sc2ccccc12)-c1cccnc1c1ccc2cc(ncc2c1)-c1ncncn1c1c(sc2ccccc12)-c1ncncn1c1ccc2cc(ccc2c1)-c1cccnc1c1ccc2cc(ccc2c1)-c1ncncn1c1ccc2ncc(cc2c1)-c1cccnc1c1c(oc2ccccc12)-c1ncncn1c1ccc2ncc(cc2c1)-c1ncncn1c1ccc2cc(ncc2c1)-c1cccnc1c1c(oc2ccccc12)-c1cccnc1c1csc(n1)-c1cc2cnccc2s1c1csc(n1)-c1cc2ccccc2s1c1csc(n1)-c1cc2ccccc2o1c1csc(n1)-c1cc2cnccc2o1c1csc(n1)-c1cc2cnccc2cn1c1csc(n1)-c1cc2ccccc2cn1c1csc(n1)-c1cc2ncccc2cn1c1csc(n1)-c1cc2sccc2cn1c1csc(n1)-c1cc2ncccc2o1c1csc(n1)-c1cc2ncccc2s1c1csc(n1)-c1cc2sccc2o1c1csc(n1)-c1ccc2ccsc2c1c1csc(n1)-c1cnc2cccnc2c1c1csc(n1)-c1cnc2ccsc2c1c1csc(n1)-c1cnc2ccncc2c1c1csc(n1)-c1ccc2cccnc2c1c1csc(n1)-c1ccc2ccncc2c1c1csc(n1)-c1cnc2ccccc2c1c1csc(n1)-c1ccc2ccccc2c1[SiH2]1C(=Cc2ccccc12)c1nccs1[SiH2]1C(=Cc2ncccc12)c1ncncn1C1C(=Cc2ccccc12)c1nccs1C1C(=Cc2ncccc12)c1cccnc1C1C(=Cc2ncccc12)c1nccs1C1C(=Cc2ncccc12)c1ncncn1[SiH2]1C(=Cc2cnccc12)c1nccs1[SiH2]1C(=Cc2ncccc12)c1nccs1C1C(=Cc2sccc12)c1nccs1[SiH2]1C(=Cc2ncccc12)c1cccnc1C1C(=Cc2cnccc12)c1nccs1c1cncc(c1)-c1cc2ncccc2cn1c1cnc2cc(ccc2c1)-c1ncncn1c1c(oc2cccnc12)-c1ncncn1c1cncc(c1)-c1cnc2cccnc2c1c1cnc2cc(cnc2c1)-c1ncncn1c1c(sc2cccnc12)-c1ncncn1c1cnc2cc(ncc2c1)-c1ncncn1c1c(oc2cccnc12)-c1cccnc1c1c(sc2cccnc12)-c1cccnc1c1cncc(c1)-c1ccc2cccnc2c1c1ncc(s1)-c1cc2cnccc2o1c1ncc(s1)-c1cc2ccccc2cn1c1ncc(s1)-c1cc2ncccc2o1c1ncc(s1)-c1cc2ccccc2s1c1ncc(s1)-c1cc2ncccc2s1c1ncc(s1)-c1cc2ncccc2cn1c1ncc(s1)-c1cc2cnccc2cn1c1ncc(s1)-c1cc2ccccc2o1c1ncc(s1)-c1cc2cnccc2s1c1ncc(s1)-c1ccc2ccccc2c1c1ncc(s1)-c1cnc2cccnc2c1c1ncc(s1)-c1ccc2cccnc2c1c1ncc(s1)-c1ccc2ccncc2c1c1ncc(s1)-c1cnc2ccccc2c1c1ncc(s1)-c1cnc2ccncc2c1[SiH2]1C(=Cc2cnccc12)c1cncs1C1C(=Cc2ncccc12)c1cncs1[SiH2]1C(=Cc2ncccc12)c1cncs1C1C(=Cc2ccccc12)c1cncs1C1C(=Cc2cnccc12)c1cncs1[SiH2]1C(=Cc2ccccc12)c1cncs1' to numeric",
      "\nThe above exception was the direct cause of the following exception:\n",
      "\u001b[0;31mTypeError\u001b[0m                                 Traceback (most recent call last)",
      "Cell \u001b[0;32mIn[32], line 1\u001b[0m\n\u001b[0;32m----> 1\u001b[0m data\u001b[38;5;241m.\u001b[39mgroupby([\u001b[38;5;124m'\u001b[39m\u001b[38;5;124mmass_group\u001b[39m\u001b[38;5;124m'\u001b[39m])\u001b[38;5;241m.\u001b[39mmean()\n",
      "File \u001b[0;32m~/miniconda3/lib/python3.12/site-packages/pandas/core/groupby/groupby.py:2452\u001b[0m, in \u001b[0;36mGroupBy.mean\u001b[0;34m(self, numeric_only, engine, engine_kwargs)\u001b[0m\n\u001b[1;32m   2445\u001b[0m     \u001b[38;5;28;01mreturn\u001b[39;00m \u001b[38;5;28mself\u001b[39m\u001b[38;5;241m.\u001b[39m_numba_agg_general(\n\u001b[1;32m   2446\u001b[0m         grouped_mean,\n\u001b[1;32m   2447\u001b[0m         executor\u001b[38;5;241m.\u001b[39mfloat_dtype_mapping,\n\u001b[1;32m   2448\u001b[0m         engine_kwargs,\n\u001b[1;32m   2449\u001b[0m         min_periods\u001b[38;5;241m=\u001b[39m\u001b[38;5;241m0\u001b[39m,\n\u001b[1;32m   2450\u001b[0m     )\n\u001b[1;32m   2451\u001b[0m \u001b[38;5;28;01melse\u001b[39;00m:\n\u001b[0;32m-> 2452\u001b[0m     result \u001b[38;5;241m=\u001b[39m \u001b[38;5;28mself\u001b[39m\u001b[38;5;241m.\u001b[39m_cython_agg_general(\n\u001b[1;32m   2453\u001b[0m         \u001b[38;5;124m\"\u001b[39m\u001b[38;5;124mmean\u001b[39m\u001b[38;5;124m\"\u001b[39m,\n\u001b[1;32m   2454\u001b[0m         alt\u001b[38;5;241m=\u001b[39m\u001b[38;5;28;01mlambda\u001b[39;00m x: Series(x, copy\u001b[38;5;241m=\u001b[39m\u001b[38;5;28;01mFalse\u001b[39;00m)\u001b[38;5;241m.\u001b[39mmean(numeric_only\u001b[38;5;241m=\u001b[39mnumeric_only),\n\u001b[1;32m   2455\u001b[0m         numeric_only\u001b[38;5;241m=\u001b[39mnumeric_only,\n\u001b[1;32m   2456\u001b[0m     )\n\u001b[1;32m   2457\u001b[0m     \u001b[38;5;28;01mreturn\u001b[39;00m result\u001b[38;5;241m.\u001b[39m__finalize__(\u001b[38;5;28mself\u001b[39m\u001b[38;5;241m.\u001b[39mobj, method\u001b[38;5;241m=\u001b[39m\u001b[38;5;124m\"\u001b[39m\u001b[38;5;124mgroupby\u001b[39m\u001b[38;5;124m\"\u001b[39m)\n",
      "File \u001b[0;32m~/miniconda3/lib/python3.12/site-packages/pandas/core/groupby/groupby.py:1998\u001b[0m, in \u001b[0;36mGroupBy._cython_agg_general\u001b[0;34m(self, how, alt, numeric_only, min_count, **kwargs)\u001b[0m\n\u001b[1;32m   1995\u001b[0m     result \u001b[38;5;241m=\u001b[39m \u001b[38;5;28mself\u001b[39m\u001b[38;5;241m.\u001b[39m_agg_py_fallback(how, values, ndim\u001b[38;5;241m=\u001b[39mdata\u001b[38;5;241m.\u001b[39mndim, alt\u001b[38;5;241m=\u001b[39malt)\n\u001b[1;32m   1996\u001b[0m     \u001b[38;5;28;01mreturn\u001b[39;00m result\n\u001b[0;32m-> 1998\u001b[0m new_mgr \u001b[38;5;241m=\u001b[39m data\u001b[38;5;241m.\u001b[39mgrouped_reduce(array_func)\n\u001b[1;32m   1999\u001b[0m res \u001b[38;5;241m=\u001b[39m \u001b[38;5;28mself\u001b[39m\u001b[38;5;241m.\u001b[39m_wrap_agged_manager(new_mgr)\n\u001b[1;32m   2000\u001b[0m \u001b[38;5;28;01mif\u001b[39;00m how \u001b[38;5;129;01min\u001b[39;00m [\u001b[38;5;124m\"\u001b[39m\u001b[38;5;124midxmin\u001b[39m\u001b[38;5;124m\"\u001b[39m, \u001b[38;5;124m\"\u001b[39m\u001b[38;5;124midxmax\u001b[39m\u001b[38;5;124m\"\u001b[39m]:\n",
      "File \u001b[0;32m~/miniconda3/lib/python3.12/site-packages/pandas/core/internals/managers.py:1469\u001b[0m, in \u001b[0;36mBlockManager.grouped_reduce\u001b[0;34m(self, func)\u001b[0m\n\u001b[1;32m   1465\u001b[0m \u001b[38;5;28;01mif\u001b[39;00m blk\u001b[38;5;241m.\u001b[39mis_object:\n\u001b[1;32m   1466\u001b[0m     \u001b[38;5;66;03m# split on object-dtype blocks bc some columns may raise\u001b[39;00m\n\u001b[1;32m   1467\u001b[0m     \u001b[38;5;66;03m#  while others do not.\u001b[39;00m\n\u001b[1;32m   1468\u001b[0m     \u001b[38;5;28;01mfor\u001b[39;00m sb \u001b[38;5;129;01min\u001b[39;00m blk\u001b[38;5;241m.\u001b[39m_split():\n\u001b[0;32m-> 1469\u001b[0m         applied \u001b[38;5;241m=\u001b[39m sb\u001b[38;5;241m.\u001b[39mapply(func)\n\u001b[1;32m   1470\u001b[0m         result_blocks \u001b[38;5;241m=\u001b[39m extend_blocks(applied, result_blocks)\n\u001b[1;32m   1471\u001b[0m \u001b[38;5;28;01melse\u001b[39;00m:\n",
      "File \u001b[0;32m~/miniconda3/lib/python3.12/site-packages/pandas/core/internals/blocks.py:393\u001b[0m, in \u001b[0;36mBlock.apply\u001b[0;34m(self, func, **kwargs)\u001b[0m\n\u001b[1;32m    387\u001b[0m \u001b[38;5;129m@final\u001b[39m\n\u001b[1;32m    388\u001b[0m \u001b[38;5;28;01mdef\u001b[39;00m \u001b[38;5;21mapply\u001b[39m(\u001b[38;5;28mself\u001b[39m, func, \u001b[38;5;241m*\u001b[39m\u001b[38;5;241m*\u001b[39mkwargs) \u001b[38;5;241m-\u001b[39m\u001b[38;5;241m>\u001b[39m \u001b[38;5;28mlist\u001b[39m[Block]:\n\u001b[1;32m    389\u001b[0m \u001b[38;5;250m    \u001b[39m\u001b[38;5;124;03m\"\"\"\u001b[39;00m\n\u001b[1;32m    390\u001b[0m \u001b[38;5;124;03m    apply the function to my values; return a block if we are not\u001b[39;00m\n\u001b[1;32m    391\u001b[0m \u001b[38;5;124;03m    one\u001b[39;00m\n\u001b[1;32m    392\u001b[0m \u001b[38;5;124;03m    \"\"\"\u001b[39;00m\n\u001b[0;32m--> 393\u001b[0m     result \u001b[38;5;241m=\u001b[39m func(\u001b[38;5;28mself\u001b[39m\u001b[38;5;241m.\u001b[39mvalues, \u001b[38;5;241m*\u001b[39m\u001b[38;5;241m*\u001b[39mkwargs)\n\u001b[1;32m    395\u001b[0m     result \u001b[38;5;241m=\u001b[39m maybe_coerce_values(result)\n\u001b[1;32m    396\u001b[0m     \u001b[38;5;28;01mreturn\u001b[39;00m \u001b[38;5;28mself\u001b[39m\u001b[38;5;241m.\u001b[39m_split_op_result(result)\n",
      "File \u001b[0;32m~/miniconda3/lib/python3.12/site-packages/pandas/core/groupby/groupby.py:1995\u001b[0m, in \u001b[0;36mGroupBy._cython_agg_general.<locals>.array_func\u001b[0;34m(values)\u001b[0m\n\u001b[1;32m   1992\u001b[0m     \u001b[38;5;28;01mreturn\u001b[39;00m result\n\u001b[1;32m   1994\u001b[0m \u001b[38;5;28;01massert\u001b[39;00m alt \u001b[38;5;129;01mis\u001b[39;00m \u001b[38;5;129;01mnot\u001b[39;00m \u001b[38;5;28;01mNone\u001b[39;00m\n\u001b[0;32m-> 1995\u001b[0m result \u001b[38;5;241m=\u001b[39m \u001b[38;5;28mself\u001b[39m\u001b[38;5;241m.\u001b[39m_agg_py_fallback(how, values, ndim\u001b[38;5;241m=\u001b[39mdata\u001b[38;5;241m.\u001b[39mndim, alt\u001b[38;5;241m=\u001b[39malt)\n\u001b[1;32m   1996\u001b[0m \u001b[38;5;28;01mreturn\u001b[39;00m result\n",
      "File \u001b[0;32m~/miniconda3/lib/python3.12/site-packages/pandas/core/groupby/groupby.py:1946\u001b[0m, in \u001b[0;36mGroupBy._agg_py_fallback\u001b[0;34m(self, how, values, ndim, alt)\u001b[0m\n\u001b[1;32m   1944\u001b[0m     msg \u001b[38;5;241m=\u001b[39m \u001b[38;5;124mf\u001b[39m\u001b[38;5;124m\"\u001b[39m\u001b[38;5;124magg function failed [how->\u001b[39m\u001b[38;5;132;01m{\u001b[39;00mhow\u001b[38;5;132;01m}\u001b[39;00m\u001b[38;5;124m,dtype->\u001b[39m\u001b[38;5;132;01m{\u001b[39;00mser\u001b[38;5;241m.\u001b[39mdtype\u001b[38;5;132;01m}\u001b[39;00m\u001b[38;5;124m]\u001b[39m\u001b[38;5;124m\"\u001b[39m\n\u001b[1;32m   1945\u001b[0m     \u001b[38;5;66;03m# preserve the kind of exception that raised\u001b[39;00m\n\u001b[0;32m-> 1946\u001b[0m     \u001b[38;5;28;01mraise\u001b[39;00m \u001b[38;5;28mtype\u001b[39m(err)(msg) \u001b[38;5;28;01mfrom\u001b[39;00m \u001b[38;5;21;01merr\u001b[39;00m\n\u001b[1;32m   1948\u001b[0m \u001b[38;5;28;01mif\u001b[39;00m ser\u001b[38;5;241m.\u001b[39mdtype \u001b[38;5;241m==\u001b[39m \u001b[38;5;28mobject\u001b[39m:\n\u001b[1;32m   1949\u001b[0m     res_values \u001b[38;5;241m=\u001b[39m res_values\u001b[38;5;241m.\u001b[39mastype(\u001b[38;5;28mobject\u001b[39m, copy\u001b[38;5;241m=\u001b[39m\u001b[38;5;28;01mFalse\u001b[39;00m)\n",
      "\u001b[0;31mTypeError\u001b[0m: agg function failed [how->mean,dtype->object]"
     ]
    }
   ],
   "source": [
    "data.groupby(['mass_group']).mean()"
   ]
  },
  {
   "cell_type": "markdown",
   "metadata": {},
   "source": [
    "You can specify a groupby using the names of table columns and compute other functions, such as the ``sum``, ``count``, ``std``, and ``describe``."
   ]
  },
  {
   "cell_type": "markdown",
   "metadata": {},
   "source": [
    "Let's try describe now...\n",
    "\n",
    "```\n",
    "data.groupby(['mass_group'])['pce'].describe()\n",
    "```"
   ]
  },
  {
   "cell_type": "code",
   "execution_count": null,
   "metadata": {},
   "outputs": [],
   "source": [
    "data.groupby(['mass_group'])['pce'].describe()"
   ]
  },
  {
   "cell_type": "markdown",
   "metadata": {},
   "source": [
    "The simplest version of a groupby looks like this, and you can use almost any aggregation function you wish (mean, median, sum, minimum, maximum, standard deviation, count, etc.)\n",
    "\n",
    "```\n",
    "<data object>.groupby(<grouping values>).<aggregate>()\n",
    "```\n",
    "\n",
    "You can even group by multiple values: for example we can look at the LUMO-HOMO gap grouped by the ``mass_group`` and ``pce``."
   ]
  },
  {
   "cell_type": "code",
   "execution_count": null,
   "metadata": {},
   "outputs": [],
   "source": [
    "#grouped = data.groupby(['mass_group', 'pce'])['e_gap_alpha'].mean()\n",
    "#grouped"
   ]
  },
  {
   "cell_type": "markdown",
   "metadata": {},
   "source": [
    "Let's take a moment to try some of the other aggregation functions such as `sum`, `count` and `mean`."
   ]
  },
  {
   "cell_type": "code",
   "execution_count": null,
   "metadata": {},
   "outputs": [],
   "source": []
  },
  {
   "cell_type": "code",
   "execution_count": null,
   "metadata": {},
   "outputs": [],
   "source": []
  },
  {
   "cell_type": "code",
   "execution_count": null,
   "metadata": {},
   "outputs": [],
   "source": []
  },
  {
   "cell_type": "markdown",
   "metadata": {},
   "source": [
    "## 3. Visualizing data with ``pandas``\n",
    "\n",
    "Of course, looking at tables of data is not very intuitive.\n",
    "Fortunately Pandas has many useful plotting functions built-in, all of which make use of the ``matplotlib`` library to generate plots.\n",
    "\n",
    "Whenever you do plotting in the Jupyter notebook, you will want to first run this *magic command* which configures the notebook to work well with plots.\n",
    "\n",
    "Note the *magic command* is any command that starts with `%` in a Jupyter notebook.  More documentation can be found [here](https://ipython.readthedocs.io/en/stable/interactive/magics.html)."
   ]
  },
  {
   "cell_type": "markdown",
   "metadata": {},
   "source": [
    "```\n",
    "import matplotlib\n",
    "%matplotlib inline\n",
    "```"
   ]
  },
  {
   "cell_type": "code",
   "execution_count": null,
   "metadata": {},
   "outputs": [],
   "source": [
    "import matplotlib\n",
    "%matplotlib inline"
   ]
  },
  {
   "cell_type": "markdown",
   "metadata": {},
   "source": [
    "Now we can simply call the ``plot()`` method of any series or dataframe to get a reasonable view of the data:"
   ]
  },
  {
   "cell_type": "markdown",
   "metadata": {},
   "source": [
    "```\n",
    "data.groupby(['mass_group'])['pce'].mean().plot()\n",
    "```"
   ]
  },
  {
   "cell_type": "code",
   "execution_count": null,
   "metadata": {},
   "outputs": [],
   "source": [
    "data.groupby(['mass_group'])['pce'].mean().plot()"
   ]
  },
  {
   "cell_type": "markdown",
   "metadata": {},
   "source": [
    "**_Questions_**:\n",
    "* What do you think of this plot?\n",
    "* What would you change if you could?"
   ]
  },
  {
   "cell_type": "markdown",
   "metadata": {},
   "source": [
    "### 3.1. Other plot types\n",
    "\n",
    "Pandas supports a range of other plotting types; you can find these by using the <TAB> autocomplete on the ``plot`` method or looking at the documentation which is [here](https://pandas.pydata.org/docs/user_guide/visualization.html)."
   ]
  },
  {
   "cell_type": "code",
   "execution_count": null,
   "metadata": {},
   "outputs": [],
   "source": [
    "data.groupby(['mass_group'])['mass'].count().plot()"
   ]
  },
  {
   "cell_type": "code",
   "execution_count": null,
   "metadata": {},
   "outputs": [],
   "source": [
    "data.hist('pce')"
   ]
  },
  {
   "cell_type": "markdown",
   "metadata": {},
   "source": [
    "## 4. Breakout for Functions and Pandas\n",
    "\n",
    "Write a function that takes a column in Pandas and computes the [arithmetic mean](https://en.wikipedia.org/wiki/Arithmetic_mean) value of the data in it without using Pandas **_aggregate_** functions.\n",
    "\n",
    "Compare that result to the one from Pandas **_aggregate_** function `.mean()`.  How did your values compare?  Were they exactly equal?  Did you expect them to be given what you know about **_floating point_** numbers?"
   ]
  },
  {
   "cell_type": "code",
   "execution_count": null,
   "metadata": {},
   "outputs": [],
   "source": []
  }
 ],
 "metadata": {
  "anaconda-cloud": {},
  "kernelspec": {
   "display_name": "Python 3 (ipykernel)",
   "language": "python",
   "name": "python3"
  },
  "language_info": {
   "codemirror_mode": {
    "name": "ipython",
    "version": 3
   },
   "file_extension": ".py",
   "mimetype": "text/x-python",
   "name": "python",
   "nbconvert_exporter": "python",
   "pygments_lexer": "ipython3",
   "version": "3.12.8"
  }
 },
 "nbformat": 4,
 "nbformat_minor": 4
}
